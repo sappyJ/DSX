{
    "nbformat_minor": 1, 
    "cells": [
        {
            "source": "## Using Gensim package, we can summarize the text by extracting important sentences from the text", 
            "cell_type": "markdown", 
            "metadata": {}
        }, 
        {
            "source": "from gensim.summarization import summarize", 
            "cell_type": "code", 
            "metadata": {}, 
            "outputs": [], 
            "execution_count": 1
        }, 
        {
            "source": "text=\"The vice syndicate that lawyer Spencer Gwee Hak Theng was charged in relation to was operated by Seng Swee Meng, 42.Together with his Vietnamese wife, Ngo Tien, 32, and two of her family members, they managed women from Vietnam who were flown into Singapore to work as prostitutes.During a raid last August, police officers rounded up 30 Vietnamese hostesses and prostitutes working in various pubs in Joo Chiat and Geylang.Half of them were managed by Seng and his wife. And four out of the 15 managed by the couple were virgins aged 16 and 17.Seng faced four charges of harbouring prostitutes, four counts of receiving them at Changi Airport, four counts of living in part on earnings of prostitution, two counts of abetting to obtain commercial sex with minors and one count of managing a place where the sex workers were assigned.Seng was sentenced to five years' jail on April 11. The next day, his sister-in-law, Ngo Ngoc, 27, was jailed for 18 months.His wife is on the run after leaving Singapore for Vietnam last July. The whereabouts of her older brother, known only as Ba, are unknown.Besides Gwee, 10 other men were also charged for having paid sex with an underage girl. Two of them have been convicted and sentenced to jail.Taxi driver Chong Heng Kow, 52, who paid $100 twice for sex with a 16-year-old Vietnamese prostitute on July 3 last year, was jailed for three months on Monday.Odd-job worker Tan Wah Eng, 60, was jailed for four months on June 15 for having sex with a then 17-year-old Vietnamese prostitute on June 19 last year.Cases involving the rest of the men are at the pre-trial conference stage.\"\nprint (summarize(text))", 
            "cell_type": "code", 
            "metadata": {}, 
            "outputs": [
                {
                    "output_type": "stream", 
                    "name": "stdout", 
                    "text": "The vice syndicate that lawyer Spencer Gwee Hak Theng was charged in relation to was operated by Seng Swee Meng, 42.Together with his Vietnamese wife, Ngo Tien, 32, and two of her family members, they managed women from Vietnam who were flown into Singapore to work as prostitutes.During a raid last August, police officers rounded up 30 Vietnamese hostesses and prostitutes working in various pubs in Joo Chiat and Geylang.Half of them were managed by Seng and his wife.\n"
                }
            ], 
            "execution_count": 2
        }, 
        {
            "source": "## Ratio is used to define how much % of text is required to return as output.", 
            "cell_type": "markdown", 
            "metadata": {}
        }, 
        {
            "source": "print (summarize(text, ratio=0.5))", 
            "cell_type": "code", 
            "metadata": {}, 
            "outputs": [
                {
                    "output_type": "stream", 
                    "name": "stdout", 
                    "text": "The vice syndicate that lawyer Spencer Gwee Hak Theng was charged in relation to was operated by Seng Swee Meng, 42.Together with his Vietnamese wife, Ngo Tien, 32, and two of her family members, they managed women from Vietnam who were flown into Singapore to work as prostitutes.During a raid last August, police officers rounded up 30 Vietnamese hostesses and prostitutes working in various pubs in Joo Chiat and Geylang.Half of them were managed by Seng and his wife.\nTwo of them have been convicted and sentenced to jail.Taxi driver Chong Heng Kow, 52, who paid $100 twice for sex with a 16-year-old Vietnamese prostitute on July 3 last year, was jailed for three months on Monday.Odd-job worker Tan Wah Eng, 60, was jailed for four months on June 15 for having sex with a then 17-year-old Vietnamese prostitute on June 19 last year.Cases involving the rest of the men are at the pre-trial conference stage.\n"
                }
            ], 
            "execution_count": 6
        }, 
        {
            "source": "## word_count is to specify number of words in the output", 
            "cell_type": "markdown", 
            "metadata": {}
        }, 
        {
            "source": "print (summarize(text, word_count=50))", 
            "cell_type": "code", 
            "metadata": {}, 
            "outputs": [
                {
                    "output_type": "stream", 
                    "name": "stdout", 
                    "text": "The vice syndicate that lawyer Spencer Gwee Hak Theng was charged in relation to was operated by Seng Swee Meng, 42.Together with his Vietnamese wife, Ngo Tien, 32, and two of her family members, they managed women from Vietnam who were flown into Singapore to work as prostitutes.During a raid last August, police officers rounded up 30 Vietnamese hostesses and prostitutes working in various pubs in Joo Chiat and Geylang.Half of them were managed by Seng and his wife.\n"
                }
            ], 
            "execution_count": 7
        }, 
        {
            "source": "## To extract keywords", 
            "cell_type": "markdown", 
            "metadata": {}
        }, 
        {
            "source": "from gensim.summarization import keywords\n\nprint ('Keywords:')\nprint (keywords(text))", 
            "cell_type": "code", 
            "metadata": {}, 
            "outputs": [
                {
                    "output_type": "stream", 
                    "name": "stdout", 
                    "text": "Keywords:\nngo\nvietnamese\nseng\nsex\nprostitutes\nprostitution\nprostitute\nbrother\nyears\nyear\nworkers\nworker\npaid\nconference\npolice officers\nhak\n"
                }
            ], 
            "execution_count": 10
        }, 
        {
            "source": "", 
            "cell_type": "code", 
            "metadata": {}, 
            "outputs": [], 
            "execution_count": null
        }
    ], 
    "metadata": {
        "kernelspec": {
            "display_name": "Python 3.5 (Experimental) with Spark 2.1", 
            "name": "python3-spark21", 
            "language": "python"
        }, 
        "language_info": {
            "mimetype": "text/x-python", 
            "nbconvert_exporter": "python", 
            "version": "3.5.2", 
            "name": "python", 
            "pygments_lexer": "ipython3", 
            "file_extension": ".py", 
            "codemirror_mode": {
                "version": 3, 
                "name": "ipython"
            }
        }
    }, 
    "nbformat": 4
}