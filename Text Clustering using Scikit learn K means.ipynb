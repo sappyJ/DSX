{
    "nbformat_minor": 1, 
    "cells": [
        {
            "source": "import numpy as np\nimport pandas as pd\nimport nltk\nimport re\nimport os\nimport codecs\nfrom sklearn import feature_extraction\nimport mpld3", 
            "cell_type": "code", 
            "metadata": {}, 
            "outputs": [], 
            "execution_count": 2
        }, 
        {
            "source": "\nimport sys\nimport types\nimport pandas as pd\nfrom botocore.client import Config\nimport ibm_boto3\n\ndef __iter__(self): return 0\n\n# @hidden_cell\n# The following code accesses a file in your IBM Cloud Object Storage. It includes your credentials.\n# You might want to remove those credentials before you share your notebook.\nclient_8760db995d144d1cab8bb99f8e30e4d7 = ibm_boto3.client(service_name='s3',\n    ibm_api_key_id='rCEutCTVbYiDKDqWrSU-G_YD5-YbqUZRhXBboFD25PHM',\n    ibm_service_instance_id=\"iam-ServiceId-315c1a38-7c02-4c01-90be-598fa4710933\",\n    ibm_auth_endpoint=\"https://iam.ng.bluemix.net/oidc/token\",\n    config=Config(signature_version='oauth'),\n    endpoint_url='https://s3-api.us-geo.objectstorage.service.networklayer.com')\n\nbody = client_8760db995d144d1cab8bb99f8e30e4d7.get_object(Bucket='textanalyticscourse291b8c2b2fd34be0aaeaf42d0c9becc5',Key='textdata.csv')['Body']\n# add missing __iter__ method, so pandas accepts body as file-like object\nif not hasattr(body, \"__iter__\"): body.__iter__ = types.MethodType( __iter__, body )\n\ndf_data_1 = pd.read_csv(body)\ndf_data_1.head()\n\n", 
            "cell_type": "code", 
            "metadata": {}, 
            "outputs": [
                {
                    "output_type": "stream", 
                    "name": "stderr", 
                    "text": "/usr/local/src/conda3_runtime.v25/4.1.1/lib/python3.5/site-packages/IPython/core/formatters.py:92: DeprecationWarning: DisplayFormatter._ipython_display_formatter_default is deprecated: use @default decorator instead.\n  def _ipython_display_formatter_default(self):\n/usr/local/src/conda3_runtime.v25/4.1.1/lib/python3.5/site-packages/IPython/core/formatters.py:98: DeprecationWarning: DisplayFormatter._formatters_default is deprecated: use @default decorator instead.\n  def _formatters_default(self):\n/usr/local/src/conda3_runtime.v25/4.1.1/lib/python3.5/site-packages/IPython/core/formatters.py:677: DeprecationWarning: PlainTextFormatter._deferred_printers_default is deprecated: use @default decorator instead.\n  def _deferred_printers_default(self):\n/usr/local/src/conda3_runtime.v25/4.1.1/lib/python3.5/site-packages/IPython/core/formatters.py:669: DeprecationWarning: PlainTextFormatter._singleton_printers_default is deprecated: use @default decorator instead.\n  def _singleton_printers_default(self):\n/usr/local/src/conda3_runtime.v25/4.1.1/lib/python3.5/site-packages/IPython/core/formatters.py:672: DeprecationWarning: PlainTextFormatter._type_printers_default is deprecated: use @default decorator instead.\n  def _type_printers_default(self):\n/usr/local/src/conda3_runtime.v25/4.1.1/lib/python3.5/site-packages/IPython/core/formatters.py:669: DeprecationWarning: PlainTextFormatter._singleton_printers_default is deprecated: use @default decorator instead.\n  def _singleton_printers_default(self):\n/usr/local/src/conda3_runtime.v25/4.1.1/lib/python3.5/site-packages/IPython/core/formatters.py:672: DeprecationWarning: PlainTextFormatter._type_printers_default is deprecated: use @default decorator instead.\n  def _type_printers_default(self):\n/usr/local/src/conda3_runtime.v25/4.1.1/lib/python3.5/site-packages/IPython/core/formatters.py:677: DeprecationWarning: PlainTextFormatter._deferred_printers_default is deprecated: use @default decorator instead.\n  def _deferred_printers_default(self):\n"
                }, 
                {
                    "output_type": "execute_result", 
                    "data": {
                        "text/plain": "                                                Text\n0  The \"Big Brother\" of Singapore football will b...\n1  Mahfizur Rahman watched his friends turn to cr...\n2  The going has been tough, but the Football Ass...\n3  Having pushed reigning world and European cham...\n4  SINGAPORE - Registration for the Standard Char...", 
                        "text/html": "<div>\n<table border=\"1\" class=\"dataframe\">\n  <thead>\n    <tr style=\"text-align: right;\">\n      <th></th>\n      <th>Text</th>\n    </tr>\n  </thead>\n  <tbody>\n    <tr>\n      <th>0</th>\n      <td>The \"Big Brother\" of Singapore football will b...</td>\n    </tr>\n    <tr>\n      <th>1</th>\n      <td>Mahfizur Rahman watched his friends turn to cr...</td>\n    </tr>\n    <tr>\n      <th>2</th>\n      <td>The going has been tough, but the Football Ass...</td>\n    </tr>\n    <tr>\n      <th>3</th>\n      <td>Having pushed reigning world and European cham...</td>\n    </tr>\n    <tr>\n      <th>4</th>\n      <td>SINGAPORE - Registration for the Standard Char...</td>\n    </tr>\n  </tbody>\n</table>\n</div>"
                    }, 
                    "execution_count": 3, 
                    "metadata": {}
                }
            ], 
            "execution_count": 3
        }, 
        {
            "source": "docs_train=[]\nfor idx, row in df_data_1.iterrows():\n    #print (row['Label'])\n    \n    #tokens = nltk.word_tokenize(row['Data'])\n   \n    docs_train.append(row['Text'])\n    #labels_train.append(row['Label'])\n    #text2_train = nltk.Text(tokens)\nprint (docs_train)", 
            "cell_type": "code", 
            "metadata": {}, 
            "outputs": [
                {
                    "output_type": "stream", 
                    "name": "stdout", 
                    "text": "['The \"Big Brother\" of Singapore football will be back, but not immediately, and not for long. In an exclusive interview with The New Paper, Persib Bandung striker Noh Alam Shah said he has agreed to sign a short-term deal with former club Tampines Rovers until the end of the season.\\nBut the 31-year-old said: \"Beyond that, I feel my future is still in Indonesia.\\n\"I feel really appreciated here. Four Indo clubs already made me offers for the next season, which starts next January.\"\\nThe move to Singapore still hinges on whether Tampines can secure his medical documents and International Transfer Certificate from the Indonesia FA before the transfer window closes today, although the Stags are optimistic.\\nIf there are no surprises, Alam Shah will return to Singapore after July 11, after Persib play their final Indonesia Super League (ISL) match against champions Sriwijaya.\\nSaid the striker: \"Tampines have always been very close to my heart and I\\'m thankful to \\'Boss\\' (Tampines chairman Teo Hock Seng).\\n\"It will be great if we can win another title together.\\n\"But I feel it is only right for me to finish the last three games with Persib because they have been very good to me.\\n\"Then I have to go back to Malang for my personal belongings. I should be a back a few days after July 11.\"\\nThis means Singapore fans will probably catch their first glimpse of the powerful forward on July 17, when Tampines visit Woodlands Wellington.\\nHe will probably line-up alongside another new striker, Serb Sead Hadzibulic, with ageless stalwart Aleksandar Duric also in the mix.\\nPotentially, it is a fearsome combination, and Tampines coach Steven Tan quipped: \"If we want to defend our title, more power better than no power.\"\\nIn an eventful seven years with Tampines from 2003 to 2009, Alam Shah thrilled fans by thumping in more than 100 goals to help the eastern giants win two S-League titles and two Singapore Cups.\\nHowever, he also embroiled in a few controversial incidents because of his volatile temperament.\\nOne of the gravest was his shocking attack on national teammate Daniel Bennett in the 2007 Singapore Cup final against SAFFC, who won 4-3.\\nAlam Shah, known for his straight-talking nature, had criticised the Beep Test before he left the S-League in 2009 to captain Arema Malang to ISL glory.\\nThe mere mention of the compulsory fitness test yesterday - he has to pass it to be able to play for Tampines - was enough to make him bristle.\\nHe said: \"I still hold the same views.\\n\"I will have to pass the Beep Test to play in the S-League again.\\n\"If I can\\'t pass, I can go back to Indonesia. But the sad thing is, I see so many good footballers who can\\'t play because they fail this Beep Test.\"\\nThe timing of his return coincides with this year\\'s Suzuki Cup, which will be co-hosted by Malaysia and Thailand from Nov 14 to Dec 8.\\nThree-rime champions Singapore have targeted a place in the final and could do with a proven striker.\\nThe former national skipper, who has 35 goals in 80 internationals, is the all-time top scorer in the regional competition with 17 goals.\\nSaid Alam Shah: \"Of course every player wants to play for his national team, but I will be 32 by then.\\n\"If they call me up, it shows they have a lack of young strikers who can fill the gap.\\n\"I\\'ve already thought of retiring from international football, but if I get a call-up, I will accept and share my experience with the younger players.\"\\n', 'Mahfizur Rahman watched his friends turn to cricket, golf and soccer over the years in the hopes of earning a living out of sport, but the Bangladesh swimmer is happy with his decision to stick to the water.\\nMahfizur, whose nickname Sagar means \"sea\" in Bengali, believes years of perseverance have paid off after he was handed a wildcard place to compete at the London Olympics.\\nDespite being crisscrossed by more than 230 rivers, swimming is a minor sport in Bangladesh and the lack of financial reward plays a major part in that.\\nCricket careers can be extremely lucrative on the subcontinent, while Siddikur Rahman has earned almost US$150,000 ($190,000) on golf\\'s Asian Tour this season.\\nSwimming is the poor cousin, says the 19-year-old.\\n\"All we earn is a medal, which is sometimes not even worth 50 taka ($0.75), so it is very difficult to keep us motivated,\" said Mahfizur at Dhaka\\'s National Swimming Complex, where he trains.\\n\"We know we will gain very little out of it; still we keep swimming because we love it.\"\\nMahfizur, who has been at Bangladesh\\'s lone sports academy (BKSP) for more than a decade, has recently been selected by the Bangladesh Navy to become a junior commanding officer.\\n\"When I came to BKSP in 2001, I saw everybody just wants to be a cricketer. But, frankly, it has never attracted me,\" he said.\\nMahfizur is the undisputed king of Bangladesh\\'s freestyle swimming, winning gold medals in the 50, 100, 200, 400 and 1,500 metres in every national meet since 2007.\\nHe struck his first gold medal at senior level in 2005 at the age of 12.\\nHowever, getting to the Olympics always seemed like a distant dream as his times had been nowhere near the top level.\\nHe clocked 24.82 seconds in the 50 freestyle at the World Championships in Shanghai last year, far behind gold medal winner Cesar Cielo\\'s 21.52 seconds.\\n\"One morning last February, one of my coaches told me that I was going to swim in the Olympics. I did not believe him and went straight to the Bangladesh Olympic Association, where officials confirmed the news,\" he said.\\n\"I was lost for words for a few seconds because this was unbelievably good news for me. I could not think of it despite being the best in the country for the last few years.\"\\nThe International Olympic Committee granted Mahfizur a wildcard place after analysing his performance in domestic events.\\n\"I always knew swimming would give me nothing but honour. And representing the country in an Olympics is the best honour for any athlete,\" he said.\\n', 'The going has been tough, but the Football Association of Singapore (FAS) has reiterated it will continue to work towards improving the S-League.\\nIn response to queries from The New Paper, the FAS admitted \"there was a drop in attendance (figures) as compared to previous years\", although it declined to provide figures.\\nSaid an FAS spokesman: \"The FAS and the S-League management recognise that more can be done to draw more fans.\\n\"We are always looking at ways to improve the league and recognise areas for improvement such as match attendances, and we are working with all stakeholders to improve in these areas.\"\\nSome S-League clubs with no main sponsors have decided to streamline their operations due to budget constraints (see main story).\\nThe FAS noted that clubs have received significantly larger subsidies over the last two years - an increase of about 70 per cent from 2010.\\nThe S-League has also secured funding from the Tote Board for the next four years, which will help in managing the clubs\\' operating budgets to allow them to attract better quality foreign players as well as to retain their players.\\nSaid the FAS spokesman: \"All S-League clubs have always been operating on a tight annual budget and exercise prudence in their expenditure. This is more evident now in view of more difficult revenue streams in recent years.\"\\nThe FAS highlighted several policies that have been put in place to assist clubs to better manage their finances as well as to ensure proper accounting governance.\\nFor example, there are shared services for clubs such as group insurance to reduce expenses and the existence of a salary cap for players ensures that club spending is within budget.\\nWithout elaborating, the FAS revealed it is working on several initiatives which will be introduced in the second half of the season, while Balestier Khalsa vice-chairman S Thavaneson\\'s suggestion to increase the number of league matches is also apparently under review.\\nSome fans wonder if the S-League will ever be able to match the sizeable crowds currently turning up for LionsXII matches in the Malaysian Super League.\\nSaid the FAS: \"The S-League was commended by the Asian Football Confederation for the quality and competitiveness of the players and participating teams, including the foreign teams.\\n\"We would like to reiterate that the S-League is the key pillar of Singapore football and it is imperative that it stays strong for the betterment of football development in Singapore from the youth levels to the professional league to the national teams.\\n', 'Having pushed reigning world and European champions Spain for 120 minutes in their Euro 2012 semi-final, Portugal can reflect on a successful showing in Poland and Ukraine.\\nCesc Fabregas\\' winning penalty gave Spain a 4-2 shootout success in Donetsk on Wednesday that sent Vicente del Bosque\\'s side into the final, but the margins of failure were wafer-thin for beaten Portugal.\\nHad Cristiano Ronaldo not lifted the ball over the crossbar in the final minute of normal time, had Bruno Alves\\' fourth Portuguese penalty not hit the bar and bounced back, things could have been very different.\\nDogged in defence and menacing on the counter-attack, Portugal proved themselves worthy of a place in the last four and although they failed to reach the final, coach Paulo Bento said there was plenty of cause for optimism.\\n\"All that\\'s left for me is the way that we played and the way we have competed,\" he said. \"Even though we lost the semi-final, that should give us a lot of confidence.\\n\"The country can be proud of the team\\'s efforts. In the 90 minutes (normal match time) we played with a lot of speed and caused Spain a lot of problems.\\n\"That\\'s why I\\'m proud and all of Portugal can be proud.\"\\nPortugal have now won only once in six attempts in major tournament semi-finals -- their last final appearance being their loss to Greece as hosts of Euro 2004 -- but they grew in strength as Euro 2012 progressed.\\nUnfortunate in their opening 1-0 loss to Germany, in which they twice hit the crossbar, they reacted in stirring fashion to beat Denmark 3-2 through an 87th-minute winner from substitute Silvestre Varela.\\nIt was then that the Cristiano Ronaldo show began.\\nThe 27-year-old produced one of the tournament\\'s outstanding individual performances in the final Group B game against Netherlands, scoring twice to cancel out Rafael van der Vaart\\'s opener and sending Portugal into the last eight.\\nHe was every bit as irresistible in the quarter-final against a stubbornly defensive Czech Republic side, whose resistance was finally pierced by a 79th-minute header from the Portugal captain.\\nGiven Portugal\\'s pre-tournament form -- 0-0 draws with Poland and Macedonia, followed by a 3-1 loss to Turkey -- and the strength of their group, a semi-final showing represents a commendable achievement.\\nFor all the disappointment of the defeat by Spain, the Seleccao have come a long way since the 1-0 loss to Norway in their second Euro 2012 qualifier in September 2010 that cost Carlos Queiroz his job at the helm of the team.\\n\"I think people will be proud of us, for what we achieved here,\" said centre-back Pepe.\\n\"We are a young group and we will have other opportunities in the future.\"\\nThere is every reason to expect that the squad will remain largely intact for the 2014 World Cup in Brazil.\\nPrior to the game against Spain, the average age of Portugal\\'s starting line-up was 26.9, and their key players should all still be in their prime in two years\\' time -- Ronaldo will be 29, Nani 27, and Pepe 31.\\nBento, 43, is under contract until 2014 and he has established a sense of calmness and continuity that bodes well for the World Cup qualifying campaign, which starts with a match away to Luxembourg on Sept 7.\\n', 'SINGAPORE - Registration for the Standard Chartered Marathon 2012 will begin on Friday, July 6, at 11am.\\nA registration event will be held at Raffles Place Park, outside Raffles Place MRT Station at the same time.\\nThe first 1,000 people to register at the event will receive limited edition goodie bags and race privileges including discounts and priority sign-ups at running clinics, as well as free transportation from designated pick-up points on the day of the race.\\nThere will also be a dedicated Race Entry Pack Collection (REPC) counter for them.\\nStandard Chartered will be giving away prizes such as watches and gym memberships at the event.\\nRegistration will also be made available online via the official website (www.marathonsingapore.com) on the same day, or at Toa Payoh Sports &amp; Recreation Centre (SRC) from July 7.\\n']\n"
                }
            ], 
            "execution_count": 4
        }, 
        {
            "source": "def tokenize_and_stem(text):\n    # first tokenize by sentence, then by word to ensure that punctuation is caught as it's own token\n    tokens = [word for sent in nltk.sent_tokenize(text) for word in nltk.word_tokenize(sent)]\n    filtered_tokens = []\n    # filter out any tokens not containing letters (e.g., numeric tokens, raw punctuation)\n    for token in tokens:\n        if re.search('[a-zA-Z]', token):\n            filtered_tokens.append(token)\n    stems = [stemmer.stem(t) for t in filtered_tokens]\n    return stems\n\n\ndef tokenize_only(text):\n    # first tokenize by sentence, then by word to ensure that punctuation is caught as it's own token\n    tokens = [word.lower() for sent in nltk.sent_tokenize(text) for word in nltk.word_tokenize(sent)]\n    filtered_tokens = []\n    # filter out any tokens not containing letters (e.g., numeric tokens, raw punctuation)\n    for token in tokens:\n        if re.search('[a-zA-Z]', token):\n            filtered_tokens.append(token)\n    return filtered_tokens", 
            "cell_type": "code", 
            "metadata": {}, 
            "outputs": [], 
            "execution_count": 5
        }, 
        {
            "source": "stopwords = nltk.corpus.stopwords.words('english')\n# load nltk's SnowballStemmer as variabled 'stemmer'\nfrom nltk.stem.snowball import SnowballStemmer\nstemmer = SnowballStemmer(\"english\")", 
            "cell_type": "code", 
            "metadata": {}, 
            "outputs": [], 
            "execution_count": 6
        }, 
        {
            "source": "#not super pythonic, no, not at all.\n#use extend so it's a big flat list of vocab\ntotalvocab_stemmed = []\ntotalvocab_tokenized = []\nfor i in docs_train:\n    allwords_stemmed = tokenize_and_stem(i) #for each item in 'synopses', tokenize/stem\n    totalvocab_stemmed.extend(allwords_stemmed) #extend the 'totalvocab_stemmed' list\n    \n    allwords_tokenized = tokenize_only(i)\n    totalvocab_tokenized.extend(allwords_tokenized)", 
            "cell_type": "code", 
            "metadata": {}, 
            "outputs": [], 
            "execution_count": 7
        }, 
        {
            "source": "vocab_frame = pd.DataFrame({'words': totalvocab_tokenized}, index = totalvocab_stemmed)\nprint ('there are ' + str(vocab_frame.shape[0]) + ' items in vocab_frame')", 
            "cell_type": "code", 
            "metadata": {}, 
            "outputs": [
                {
                    "output_type": "stream", 
                    "name": "stdout", 
                    "text": "there are 2098 items in vocab_frame\n"
                }
            ], 
            "execution_count": 8
        }, 
        {
            "source": "from sklearn.feature_extraction.text import TfidfVectorizer\n\n#define vectorizer parameters\ntfidf_vectorizer = TfidfVectorizer(max_df=0.8, max_features=200,\n                                 min_df=0.2, stop_words='english',\n                                 use_idf=True, tokenizer=tokenize_and_stem, ngram_range=(1,3))\n\n%time tfidf_matrix = tfidf_vectorizer.fit_transform(docs_train) #fit the vectorizer to synopses\n\nprint(tfidf_matrix.shape)", 
            "cell_type": "code", 
            "metadata": {}, 
            "outputs": [
                {
                    "output_type": "stream", 
                    "name": "stdout", 
                    "text": "CPU times: user 159 ms, sys: 549 \u00b5s, total: 160 ms\nWall time: 186 ms\n(5, 200)\n"
                }
            ], 
            "execution_count": 9
        }, 
        {
            "source": "terms = tfidf_vectorizer.get_feature_names()", 
            "cell_type": "code", 
            "metadata": {}, 
            "outputs": [], 
            "execution_count": 10
        }, 
        {
            "source": "from sklearn.metrics.pairwise import cosine_similarity\ndist = 1 - cosine_similarity(tfidf_matrix)", 
            "cell_type": "code", 
            "metadata": {}, 
            "outputs": [], 
            "execution_count": 11
        }, 
        {
            "source": "from sklearn.cluster import KMeans\n\nnum_clusters = 2\n\nkm = KMeans(n_clusters=num_clusters)\n\n%time km.fit(tfidf_matrix)\n\nclusters = km.labels_.tolist()", 
            "cell_type": "code", 
            "metadata": {}, 
            "outputs": [], 
            "execution_count": null
        }, 
        {
            "source": "", 
            "cell_type": "code", 
            "metadata": {}, 
            "outputs": [], 
            "execution_count": null
        }
    ], 
    "metadata": {
        "kernelspec": {
            "display_name": "Python 3.5 (Experimental) with Spark 2.1", 
            "name": "python3-spark21", 
            "language": "python"
        }, 
        "language_info": {
            "mimetype": "text/x-python", 
            "nbconvert_exporter": "python", 
            "version": "3.5.2", 
            "name": "python", 
            "pygments_lexer": "ipython3", 
            "file_extension": ".py", 
            "codemirror_mode": {
                "version": 3, 
                "name": "ipython"
            }
        }
    }, 
    "nbformat": 4
}