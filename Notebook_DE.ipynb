{
    "metadata": {
        "language_info": {
            "codemirror_mode": {
                "name": "ipython", 
                "version": 2
            }, 
            "file_extension": ".py", 
            "pygments_lexer": "ipython2", 
            "name": "python", 
            "mimetype": "text/x-python", 
            "nbconvert_exporter": "python", 
            "version": "2.7.11"
        }, 
        "kernelspec": {
            "display_name": "Python 2 with Spark 2.0", 
            "name": "python2-spark20", 
            "language": "python"
        }
    }, 
    "nbformat_minor": 1, 
    "cells": [
        {
            "outputs": [
                {
                    "data": {
                        "text/plain": "            card_no                         txn_dt    txn_tm  bill_amt  \\\n0  4410123456098153  2017-03-21T00:00:00.000+07:00  10:22:19      5660   \n1  4410123456018545  2017-03-21T00:00:00.000+07:00  23:30:43       100   \n2  4410123456085556  2017-03-21T00:00:00.000+07:00  07:32:54      1540   \n3  4410123456047294  2017-03-21T00:00:00.000+07:00  05:16:20      1500   \n4  4410123456074332  2017-03-21T00:00:00.000+07:00  13:18:56       680   \n\n  card_acpt_cty  mrch_tp_cd card_type  \n0            TH        4722      visa  \n1            US        5818      visa  \n2            TH        6300      visa  \n3            TH        5541      visa  \n4            TH        5812      visa  ", 
                        "text/html": "<div>\n<table border=\"1\" class=\"dataframe\">\n  <thead>\n    <tr style=\"text-align: right;\">\n      <th></th>\n      <th>card_no</th>\n      <th>txn_dt</th>\n      <th>txn_tm</th>\n      <th>bill_amt</th>\n      <th>card_acpt_cty</th>\n      <th>mrch_tp_cd</th>\n      <th>card_type</th>\n    </tr>\n  </thead>\n  <tbody>\n    <tr>\n      <th>0</th>\n      <td>4410123456098153</td>\n      <td>2017-03-21T00:00:00.000+07:00</td>\n      <td>10:22:19</td>\n      <td>5660</td>\n      <td>TH</td>\n      <td>4722</td>\n      <td>visa</td>\n    </tr>\n    <tr>\n      <th>1</th>\n      <td>4410123456018545</td>\n      <td>2017-03-21T00:00:00.000+07:00</td>\n      <td>23:30:43</td>\n      <td>100</td>\n      <td>US</td>\n      <td>5818</td>\n      <td>visa</td>\n    </tr>\n    <tr>\n      <th>2</th>\n      <td>4410123456085556</td>\n      <td>2017-03-21T00:00:00.000+07:00</td>\n      <td>07:32:54</td>\n      <td>1540</td>\n      <td>TH</td>\n      <td>6300</td>\n      <td>visa</td>\n    </tr>\n    <tr>\n      <th>3</th>\n      <td>4410123456047294</td>\n      <td>2017-03-21T00:00:00.000+07:00</td>\n      <td>05:16:20</td>\n      <td>1500</td>\n      <td>TH</td>\n      <td>5541</td>\n      <td>visa</td>\n    </tr>\n    <tr>\n      <th>4</th>\n      <td>4410123456074332</td>\n      <td>2017-03-21T00:00:00.000+07:00</td>\n      <td>13:18:56</td>\n      <td>680</td>\n      <td>TH</td>\n      <td>5812</td>\n      <td>visa</td>\n    </tr>\n  </tbody>\n</table>\n</div>"
                    }, 
                    "metadata": {}, 
                    "output_type": "execute_result", 
                    "execution_count": 2
                }
            ], 
            "metadata": {}, 
            "source": "\nfrom io import StringIO\nimport requests\nimport json\nimport pandas as pd\n\n# @hidden_cell\n# This function accesses a file in your Object Storage. The definition contains your credentials.\n# You might want to remove those credentials before you share your notebook.\ndef get_object_storage_file_with_credentials_b3d150584aa142a1975f62c1c8b1699a(container, filename):\n    \"\"\"This functions returns a StringIO object containing\n    the file content from Bluemix Object Storage.\"\"\"\n\n    url1 = ''.join(['https://identity.open.softlayer.com', '/v3/auth/tokens'])\n    data = {'auth': {'identity': {'methods': ['password'],\n            'password': {'user': {'name': 'member_e28904fb9993787d907536191c825c593c36c601','domain': {'id': '0592036926cf47bf87e889ec75d0d38b'},\n            'password': 'W-ucS.1Ge_fr.0b('}}}}}\n    headers1 = {'Content-Type': 'application/json'}\n    resp1 = requests.post(url=url1, data=json.dumps(data), headers=headers1)\n    resp1_body = resp1.json()\n    for e1 in resp1_body['token']['catalog']:\n        if(e1['type']=='object-store'):\n            for e2 in e1['endpoints']:\n                        if(e2['interface']=='public'and e2['region']=='dallas'):\n                            url2 = ''.join([e2['url'],'/', container, '/', filename])\n    s_subject_token = resp1.headers['x-subject-token']\n    headers2 = {'X-Auth-Token': s_subject_token, 'accept': 'application/json'}\n    resp2 = requests.get(url=url2, headers=headers2)\n    return StringIO(resp2.text)\n\ndf_data_1 = pd.read_csv(get_object_storage_file_with_credentials_b3d150584aa142a1975f62c1c8b1699a('201710kbankibm', 'cc_log.csv'))\ndf_data_1.head()\n", 
            "cell_type": "code", 
            "execution_count": 2
        }, 
        {
            "outputs": [
                {
                    "data": {
                        "text/plain": "            card_no card_type      opn_dt  exp_dt  cr_lmt_amt  \\\n0  4410123456000001      visa  1997-10-14    1017       50000   \n1  4410123456000002    master  2010-06-29     620      146000   \n2  4410123456000003      visa  2014-06-18     619       22000   \n3  4410123456000004      visa  2014-11-03    1119     1000000   \n4  4410123456000005      visa  2014-04-10     419       80000   \n\n   prev_cr_lmt_amt  main_zip_cd  cr_line_amt  incm_amt  brth_estb_yr  \n0                0      73120.0        50000     21000        1953.0  \n1                0      43000.0       146000     72000        1965.0  \n2                0      23000.0        22000     20000        1978.0  \n3                0      10200.0      2141000   1800000        1955.0  \n4                0      57160.0        80000     32000        1969.0  ", 
                        "text/html": "<div>\n<table border=\"1\" class=\"dataframe\">\n  <thead>\n    <tr style=\"text-align: right;\">\n      <th></th>\n      <th>card_no</th>\n      <th>card_type</th>\n      <th>opn_dt</th>\n      <th>exp_dt</th>\n      <th>cr_lmt_amt</th>\n      <th>prev_cr_lmt_amt</th>\n      <th>main_zip_cd</th>\n      <th>cr_line_amt</th>\n      <th>incm_amt</th>\n      <th>brth_estb_yr</th>\n    </tr>\n  </thead>\n  <tbody>\n    <tr>\n      <th>0</th>\n      <td>4410123456000001</td>\n      <td>visa</td>\n      <td>1997-10-14</td>\n      <td>1017</td>\n      <td>50000</td>\n      <td>0</td>\n      <td>73120.0</td>\n      <td>50000</td>\n      <td>21000</td>\n      <td>1953.0</td>\n    </tr>\n    <tr>\n      <th>1</th>\n      <td>4410123456000002</td>\n      <td>master</td>\n      <td>2010-06-29</td>\n      <td>620</td>\n      <td>146000</td>\n      <td>0</td>\n      <td>43000.0</td>\n      <td>146000</td>\n      <td>72000</td>\n      <td>1965.0</td>\n    </tr>\n    <tr>\n      <th>2</th>\n      <td>4410123456000003</td>\n      <td>visa</td>\n      <td>2014-06-18</td>\n      <td>619</td>\n      <td>22000</td>\n      <td>0</td>\n      <td>23000.0</td>\n      <td>22000</td>\n      <td>20000</td>\n      <td>1978.0</td>\n    </tr>\n    <tr>\n      <th>3</th>\n      <td>4410123456000004</td>\n      <td>visa</td>\n      <td>2014-11-03</td>\n      <td>1119</td>\n      <td>1000000</td>\n      <td>0</td>\n      <td>10200.0</td>\n      <td>2141000</td>\n      <td>1800000</td>\n      <td>1955.0</td>\n    </tr>\n    <tr>\n      <th>4</th>\n      <td>4410123456000005</td>\n      <td>visa</td>\n      <td>2014-04-10</td>\n      <td>419</td>\n      <td>80000</td>\n      <td>0</td>\n      <td>57160.0</td>\n      <td>80000</td>\n      <td>32000</td>\n      <td>1969.0</td>\n    </tr>\n  </tbody>\n</table>\n</div>"
                    }, 
                    "metadata": {}, 
                    "output_type": "execute_result", 
                    "execution_count": 3
                }
            ], 
            "metadata": {}, 
            "source": "\ndf_data_2 = pd.read_csv(get_object_storage_file_with_credentials_b3d150584aa142a1975f62c1c8b1699a('201710kbankibm', 'cc_info.csv'))\ndf_data_2.head()\n", 
            "cell_type": "code", 
            "execution_count": 3
        }, 
        {
            "outputs": [
                {
                    "data": {
                        "text/plain": "card_no            99594\ncard_type          99594\nopn_dt             99594\nexp_dt             99594\ncr_lmt_amt         99594\nprev_cr_lmt_amt    99594\nmain_zip_cd        99584\ncr_line_amt        99594\nincm_amt           99594\nbrth_estb_yr       99584\ndtype: int64"
                    }, 
                    "metadata": {}, 
                    "output_type": "execute_result", 
                    "execution_count": 4
                }
            ], 
            "metadata": {}, 
            "source": "df_data_2.count()", 
            "cell_type": "code", 
            "execution_count": 4
        }, 
        {
            "outputs": [
                {
                    "data": {
                        "text/plain": "            card_no      txn_dt    txn_tm  bill_amt card_acpt_cty  mrch_tp_cd  \\\n0  4410123456098153  2017-03-21  10:22:19      5660            TH        4722   \n1  4410123456018545  2017-03-21  23:30:43       100            US        5818   \n2  4410123456085556  2017-03-21  07:32:54      1540            TH        6300   \n3  4410123456047294  2017-03-21  05:16:20      1500            TH        5541   \n4  4410123456074332  2017-03-21  13:18:56       680            TH        5812   \n\n  card_type  \n0      visa  \n1      visa  \n2      visa  \n3      visa  \n4      visa  ", 
                        "text/html": "<div>\n<table border=\"1\" class=\"dataframe\">\n  <thead>\n    <tr style=\"text-align: right;\">\n      <th></th>\n      <th>card_no</th>\n      <th>txn_dt</th>\n      <th>txn_tm</th>\n      <th>bill_amt</th>\n      <th>card_acpt_cty</th>\n      <th>mrch_tp_cd</th>\n      <th>card_type</th>\n    </tr>\n  </thead>\n  <tbody>\n    <tr>\n      <th>0</th>\n      <td>4410123456098153</td>\n      <td>2017-03-21</td>\n      <td>10:22:19</td>\n      <td>5660</td>\n      <td>TH</td>\n      <td>4722</td>\n      <td>visa</td>\n    </tr>\n    <tr>\n      <th>1</th>\n      <td>4410123456018545</td>\n      <td>2017-03-21</td>\n      <td>23:30:43</td>\n      <td>100</td>\n      <td>US</td>\n      <td>5818</td>\n      <td>visa</td>\n    </tr>\n    <tr>\n      <th>2</th>\n      <td>4410123456085556</td>\n      <td>2017-03-21</td>\n      <td>07:32:54</td>\n      <td>1540</td>\n      <td>TH</td>\n      <td>6300</td>\n      <td>visa</td>\n    </tr>\n    <tr>\n      <th>3</th>\n      <td>4410123456047294</td>\n      <td>2017-03-21</td>\n      <td>05:16:20</td>\n      <td>1500</td>\n      <td>TH</td>\n      <td>5541</td>\n      <td>visa</td>\n    </tr>\n    <tr>\n      <th>4</th>\n      <td>4410123456074332</td>\n      <td>2017-03-21</td>\n      <td>13:18:56</td>\n      <td>680</td>\n      <td>TH</td>\n      <td>5812</td>\n      <td>visa</td>\n    </tr>\n  </tbody>\n</table>\n</div>"
                    }, 
                    "metadata": {}, 
                    "output_type": "execute_result", 
                    "execution_count": 5
                }
            ], 
            "metadata": {}, 
            "source": "df_data_1['txn_dt']=df_data_1['txn_dt'].str.slice(0, 10)\n\ndf_data_1.head()\n", 
            "cell_type": "code", 
            "execution_count": 5
        }, 
        {
            "outputs": [
                {
                    "name": "stdout", 
                    "output_type": "stream", 
                    "text": "[[  6.72874289e-05   1.18882383e-06   1.83078870e-05 ...,   9.51059066e-06\n    2.02100051e-05   1.97344756e-05]]\n"
                }, 
                {
                    "name": "stderr", 
                    "output_type": "stream", 
                    "text": "/gpfs/fs01/user/sc9e-85ff83ddf64048-ccef6e89e67a/.local/lib/python2.7/site-packages/sklearn/utils/validation.py:395: DeprecationWarning: Passing 1d arrays as data is deprecated in 0.17 and will raise ValueError in 0.19. Reshape your data either using X.reshape(-1, 1) if your data has a single feature or X.reshape(1, -1) if it contains a single sample.\n  DeprecationWarning)\n/gpfs/fs01/user/sc9e-85ff83ddf64048-ccef6e89e67a/.local/lib/python2.7/site-packages/sklearn/utils/validation.py:395: DeprecationWarning: Passing 1d arrays as data is deprecated in 0.17 and will raise ValueError in 0.19. Reshape your data either using X.reshape(-1, 1) if your data has a single feature or X.reshape(1, -1) if it contains a single sample.\n  DeprecationWarning)\n/gpfs/fs01/user/sc9e-85ff83ddf64048-ccef6e89e67a/.local/lib/python2.7/site-packages/sklearn/utils/validation.py:429: DataConversionWarning: Data with input dtype int64 was converted to float64 by the normalize function.\n  warnings.warn(msg, _DataConversionWarning)\n"
                }
            ], 
            "metadata": {}, 
            "source": "from sklearn.preprocessing import Normalizer\nscaler = Normalizer().fit(df_data_1['bill_amt'])\nnormalized_X = scaler.transform(df_data_1['bill_amt'])\nprint normalized_X", 
            "cell_type": "code", 
            "execution_count": 6
        }, 
        {
            "outputs": [
                {
                    "data": {
                        "text/plain": "card_no           int64\ntxn_dt           object\ntxn_tm           object\nbill_amt          int64\ncard_acpt_cty    object\nmrch_tp_cd        int64\ncard_type        object\ndtype: object"
                    }, 
                    "metadata": {}, 
                    "output_type": "execute_result", 
                    "execution_count": 7
                }
            ], 
            "metadata": {}, 
            "source": "df_data_1.dtypes", 
            "cell_type": "code", 
            "execution_count": 7
        }, 
        {
            "outputs": [
                {
                    "name": "stdout", 
                    "output_type": "stream", 
                    "text": "card_no              int64\ntxn_dt      datetime64[ns]\nbill_amt             int64\ndtype: object\n                     card_no  bill_amt\ntxn_dt                                \n2016-01-01  4410123456000016      6460\n2016-01-01  4410123456066301        40\n2016-01-01  4410123456066301       260\n2016-01-01  4410123456066301        40\n2016-01-01  4410123456066301        40\n"
                }
            ], 
            "metadata": {}, 
            "source": "import numpy as np\ndf_data_1['txn_dt'] = pd.to_datetime(df_data_1['txn_dt'])\ndf_data_1= df_data_1.sort_values(['txn_dt', 'card_no'], ascending=[True, True])\n#print df_data_1.sort_values(by='txn_dt')\n#df_data_1.head()\ndf_data_sub = df_data_1[ df_data_1[\"txn_dt\"] < '2016-12-31' ]\ndf_data_sub= df_data_sub.sort_values(['txn_dt'], ascending=[True])\nnew = df_data_sub[['card_no','txn_dt', 'bill_amt']].copy()\n#print new.head()\nprint new.dtypes\nnew=new.set_index('txn_dt')\nprint new.head()\n\n\n\n", 
            "cell_type": "code", 
            "execution_count": 8
        }, 
        {
            "outputs": [
                {
                    "traceback": [
                        "\u001b[0;31m\u001b[0m", 
                        "\u001b[0;31mTypeError\u001b[0mTraceback (most recent call last)", 
                        "\u001b[0;32m<ipython-input-16-c1f47fede092>\u001b[0m in \u001b[0;36m<module>\u001b[0;34m()\u001b[0m\n\u001b[1;32m      1\u001b[0m \u001b[0;32mfrom\u001b[0m \u001b[0mstatsmodels\u001b[0m\u001b[0;34m.\u001b[0m\u001b[0mtsa\u001b[0m\u001b[0;34m.\u001b[0m\u001b[0marima_model\u001b[0m \u001b[0;32mimport\u001b[0m \u001b[0mARIMA\u001b[0m\u001b[0;34m\u001b[0m\u001b[0m\n\u001b[0;32m----> 2\u001b[0;31m \u001b[0mmodel\u001b[0m \u001b[0;34m=\u001b[0m \u001b[0mARIMA\u001b[0m\u001b[0;34m(\u001b[0m\u001b[0mnew\u001b[0m\u001b[0;34m.\u001b[0m\u001b[0mastype\u001b[0m\u001b[0;34m(\u001b[0m\u001b[0mfloat\u001b[0m\u001b[0;34m)\u001b[0m\u001b[0;34m,\u001b[0m \u001b[0morder\u001b[0m\u001b[0;34m=\u001b[0m\u001b[0;34m(\u001b[0m\u001b[0;36m5\u001b[0m\u001b[0;34m,\u001b[0m\u001b[0;36m1\u001b[0m\u001b[0;34m,\u001b[0m\u001b[0;36m0\u001b[0m\u001b[0;34m)\u001b[0m\u001b[0;34m)\u001b[0m\u001b[0;34m\u001b[0m\u001b[0m\n\u001b[0m\u001b[1;32m      3\u001b[0m \u001b[0mmodel_fit\u001b[0m \u001b[0;34m=\u001b[0m \u001b[0mmodel\u001b[0m\u001b[0;34m.\u001b[0m\u001b[0mfit\u001b[0m\u001b[0;34m(\u001b[0m\u001b[0mdisp\u001b[0m\u001b[0;34m=\u001b[0m\u001b[0;36m0\u001b[0m\u001b[0;34m)\u001b[0m\u001b[0;34m\u001b[0m\u001b[0m\n\u001b[1;32m      4\u001b[0m \u001b[0;32mprint\u001b[0m\u001b[0;34m(\u001b[0m\u001b[0mmodel_fit\u001b[0m\u001b[0;34m.\u001b[0m\u001b[0msummary\u001b[0m\u001b[0;34m(\u001b[0m\u001b[0;34m)\u001b[0m\u001b[0;34m)\u001b[0m\u001b[0;34m\u001b[0m\u001b[0m\n", 
                        "\u001b[0;32m/usr/local/src/bluemix_jupyter_bundle.v63/notebook/lib/python2.7/site-packages/statsmodels/tsa/arima_model.pyc\u001b[0m in \u001b[0;36m__new__\u001b[0;34m(cls, endog, order, exog, dates, freq, missing)\u001b[0m\n\u001b[1;32m    963\u001b[0m         \u001b[0;32melse\u001b[0m\u001b[0;34m:\u001b[0m\u001b[0;34m\u001b[0m\u001b[0m\n\u001b[1;32m    964\u001b[0m             \u001b[0mmod\u001b[0m \u001b[0;34m=\u001b[0m \u001b[0msuper\u001b[0m\u001b[0;34m(\u001b[0m\u001b[0mARIMA\u001b[0m\u001b[0;34m,\u001b[0m \u001b[0mcls\u001b[0m\u001b[0;34m)\u001b[0m\u001b[0;34m.\u001b[0m\u001b[0m__new__\u001b[0m\u001b[0;34m(\u001b[0m\u001b[0mcls\u001b[0m\u001b[0;34m)\u001b[0m\u001b[0;34m\u001b[0m\u001b[0m\n\u001b[0;32m--> 965\u001b[0;31m             \u001b[0mmod\u001b[0m\u001b[0;34m.\u001b[0m\u001b[0m__init__\u001b[0m\u001b[0;34m(\u001b[0m\u001b[0mendog\u001b[0m\u001b[0;34m,\u001b[0m \u001b[0morder\u001b[0m\u001b[0;34m,\u001b[0m \u001b[0mexog\u001b[0m\u001b[0;34m,\u001b[0m \u001b[0mdates\u001b[0m\u001b[0;34m,\u001b[0m \u001b[0mfreq\u001b[0m\u001b[0;34m,\u001b[0m \u001b[0mmissing\u001b[0m\u001b[0;34m)\u001b[0m\u001b[0;34m\u001b[0m\u001b[0m\n\u001b[0m\u001b[1;32m    966\u001b[0m             \u001b[0;32mreturn\u001b[0m \u001b[0mmod\u001b[0m\u001b[0;34m\u001b[0m\u001b[0m\n\u001b[1;32m    967\u001b[0m \u001b[0;34m\u001b[0m\u001b[0m\n", 
                        "\u001b[0;32m/usr/local/src/bluemix_jupyter_bundle.v63/notebook/lib/python2.7/site-packages/statsmodels/tsa/arima_model.pyc\u001b[0m in \u001b[0;36m__init__\u001b[0;34m(self, endog, order, exog, dates, freq, missing)\u001b[0m\n\u001b[1;32m    982\u001b[0m             \u001b[0mself\u001b[0m\u001b[0;34m.\u001b[0m\u001b[0mexog\u001b[0m \u001b[0;34m=\u001b[0m \u001b[0mself\u001b[0m\u001b[0;34m.\u001b[0m\u001b[0mexog\u001b[0m\u001b[0;34m[\u001b[0m\u001b[0md\u001b[0m\u001b[0;34m:\u001b[0m\u001b[0;34m]\u001b[0m\u001b[0;34m\u001b[0m\u001b[0m\n\u001b[1;32m    983\u001b[0m         \u001b[0;32mif\u001b[0m \u001b[0md\u001b[0m \u001b[0;34m==\u001b[0m \u001b[0;36m1\u001b[0m\u001b[0;34m:\u001b[0m\u001b[0;34m\u001b[0m\u001b[0m\n\u001b[0;32m--> 984\u001b[0;31m             \u001b[0mself\u001b[0m\u001b[0;34m.\u001b[0m\u001b[0mdata\u001b[0m\u001b[0;34m.\u001b[0m\u001b[0mynames\u001b[0m \u001b[0;34m=\u001b[0m \u001b[0;34m'D.'\u001b[0m \u001b[0;34m+\u001b[0m \u001b[0mself\u001b[0m\u001b[0;34m.\u001b[0m\u001b[0mendog_names\u001b[0m\u001b[0;34m\u001b[0m\u001b[0m\n\u001b[0m\u001b[1;32m    985\u001b[0m         \u001b[0;32melse\u001b[0m\u001b[0;34m:\u001b[0m\u001b[0;34m\u001b[0m\u001b[0m\n\u001b[1;32m    986\u001b[0m             \u001b[0mself\u001b[0m\u001b[0;34m.\u001b[0m\u001b[0mdata\u001b[0m\u001b[0;34m.\u001b[0m\u001b[0mynames\u001b[0m \u001b[0;34m=\u001b[0m \u001b[0;34m'D{0:d}.'\u001b[0m\u001b[0;34m.\u001b[0m\u001b[0mformat\u001b[0m\u001b[0;34m(\u001b[0m\u001b[0md\u001b[0m\u001b[0;34m)\u001b[0m \u001b[0;34m+\u001b[0m \u001b[0mself\u001b[0m\u001b[0;34m.\u001b[0m\u001b[0mendog_names\u001b[0m\u001b[0;34m\u001b[0m\u001b[0m\n", 
                        "\u001b[0;31mTypeError\u001b[0m: cannot concatenate 'str' and 'list' objects"
                    ], 
                    "output_type": "error", 
                    "evalue": "cannot concatenate 'str' and 'list' objects", 
                    "ename": "TypeError"
                }
            ], 
            "metadata": {}, 
            "source": "from statsmodels.tsa.arima_model import ARIMA\nmodel = ARIMA(new.values.astype(float), order=(5,1,0))\nmodel_fit = model.fit(disp=0)\nprint(model_fit.summary())", 
            "cell_type": "code", 
            "execution_count": 16
        }, 
        {
            "outputs": [
                {
                    "data": {
                        "text/plain": "            card_no card_type  cr_lmt_amt  prev_cr_lmt_amt  main_zip_cd  \\\n0  4410123456000001      visa       50000                0      73120.0   \n1  4410123456000003      visa       22000                0      23000.0   \n2  4410123456000004      visa     1000000                0      10200.0   \n3  4410123456000005      visa       80000                0      57160.0   \n4  4410123456000006      visa      100000                0      10150.0   \n\n   cr_line_amt  incm_amt   Age  Age of card  \\\n0        50000     21000  63.0           19   \n1        22000     20000  38.0            3   \n2      2141000   1800000  61.0            2   \n3        80000     32000  47.0            3   \n4       100000     66000  25.0            1   \n\n   Categories_Automobiles and Vehicles_bill_amt_Mean_Sum_Sum  \\\n0                                         840.000000           \n1                                        8230.000000           \n2                                        2700.000000           \n3                                        7800.666667           \n4                                           0.000000           \n\n   Categories_Clothing Stores_bill_amt_Mean_Sum_Sum  \\\n0                                       1280.000000   \n1                                          0.000000   \n2                                      35316.666667   \n3                                          0.000000   \n4                                        800.000000   \n\n   Categories_Service Providers_bill_amt_Mean_Sum_Sum  \\\n0                                            23260.0    \n1                                                0.0    \n2                                                0.0    \n3                                                0.0    \n4                                                0.0    \n\n   Categories_Transportation_bill_amt_Mean_Sum_Sum  \\\n0                                              0.0   \n1                                              0.0   \n2                                              0.0   \n3                                              0.0   \n4                                          13570.0   \n\n   Categories_Utilities_bill_amt_Mean_Sum_Sum  \\\n0                                      4000.0   \n1                                         0.0   \n2                                      1010.0   \n3                                         0.0   \n4                                      3780.0   \n\n   Categories_Automobiles and Vehicles_frequency_Sum_Sum  \\\n0                                                  1       \n1                                                 19       \n2                                                  3       \n3                                                 26       \n4                                                  0       \n\n   Categories_Clothing Stores_frequency_Sum_Sum  \\\n0                                             2   \n1                                             0   \n2                                             5   \n3                                             0   \n4                                             1   \n\n   Categories_Service Providers_frequency_Sum_Sum  \\\n0                                               3   \n1                                               0   \n2                                               0   \n3                                               0   \n4                                               0   \n\n   Categories_Transportation_frequency_Sum_Sum  \\\n0                                            0   \n1                                            0   \n2                                            0   \n3                                            0   \n4                                            6   \n\n   Categories_Utilities_frequency_Sum_Sum  Record_Count  \n0                                       1             5  \n1                                       0             9  \n2                                       2             3  \n3                                       0            10  \n4                                       3             7  ", 
                        "text/html": "<div>\n<table border=\"1\" class=\"dataframe\">\n  <thead>\n    <tr style=\"text-align: right;\">\n      <th></th>\n      <th>card_no</th>\n      <th>card_type</th>\n      <th>cr_lmt_amt</th>\n      <th>prev_cr_lmt_amt</th>\n      <th>main_zip_cd</th>\n      <th>cr_line_amt</th>\n      <th>incm_amt</th>\n      <th>Age</th>\n      <th>Age of card</th>\n      <th>Categories_Automobiles and Vehicles_bill_amt_Mean_Sum_Sum</th>\n      <th>Categories_Clothing Stores_bill_amt_Mean_Sum_Sum</th>\n      <th>Categories_Service Providers_bill_amt_Mean_Sum_Sum</th>\n      <th>Categories_Transportation_bill_amt_Mean_Sum_Sum</th>\n      <th>Categories_Utilities_bill_amt_Mean_Sum_Sum</th>\n      <th>Categories_Automobiles and Vehicles_frequency_Sum_Sum</th>\n      <th>Categories_Clothing Stores_frequency_Sum_Sum</th>\n      <th>Categories_Service Providers_frequency_Sum_Sum</th>\n      <th>Categories_Transportation_frequency_Sum_Sum</th>\n      <th>Categories_Utilities_frequency_Sum_Sum</th>\n      <th>Record_Count</th>\n    </tr>\n  </thead>\n  <tbody>\n    <tr>\n      <th>0</th>\n      <td>4410123456000001</td>\n      <td>visa</td>\n      <td>50000</td>\n      <td>0</td>\n      <td>73120.0</td>\n      <td>50000</td>\n      <td>21000</td>\n      <td>63.0</td>\n      <td>19</td>\n      <td>840.000000</td>\n      <td>1280.000000</td>\n      <td>23260.0</td>\n      <td>0.0</td>\n      <td>4000.0</td>\n      <td>1</td>\n      <td>2</td>\n      <td>3</td>\n      <td>0</td>\n      <td>1</td>\n      <td>5</td>\n    </tr>\n    <tr>\n      <th>1</th>\n      <td>4410123456000003</td>\n      <td>visa</td>\n      <td>22000</td>\n      <td>0</td>\n      <td>23000.0</td>\n      <td>22000</td>\n      <td>20000</td>\n      <td>38.0</td>\n      <td>3</td>\n      <td>8230.000000</td>\n      <td>0.000000</td>\n      <td>0.0</td>\n      <td>0.0</td>\n      <td>0.0</td>\n      <td>19</td>\n      <td>0</td>\n      <td>0</td>\n      <td>0</td>\n      <td>0</td>\n      <td>9</td>\n    </tr>\n    <tr>\n      <th>2</th>\n      <td>4410123456000004</td>\n      <td>visa</td>\n      <td>1000000</td>\n      <td>0</td>\n      <td>10200.0</td>\n      <td>2141000</td>\n      <td>1800000</td>\n      <td>61.0</td>\n      <td>2</td>\n      <td>2700.000000</td>\n      <td>35316.666667</td>\n      <td>0.0</td>\n      <td>0.0</td>\n      <td>1010.0</td>\n      <td>3</td>\n      <td>5</td>\n      <td>0</td>\n      <td>0</td>\n      <td>2</td>\n      <td>3</td>\n    </tr>\n    <tr>\n      <th>3</th>\n      <td>4410123456000005</td>\n      <td>visa</td>\n      <td>80000</td>\n      <td>0</td>\n      <td>57160.0</td>\n      <td>80000</td>\n      <td>32000</td>\n      <td>47.0</td>\n      <td>3</td>\n      <td>7800.666667</td>\n      <td>0.000000</td>\n      <td>0.0</td>\n      <td>0.0</td>\n      <td>0.0</td>\n      <td>26</td>\n      <td>0</td>\n      <td>0</td>\n      <td>0</td>\n      <td>0</td>\n      <td>10</td>\n    </tr>\n    <tr>\n      <th>4</th>\n      <td>4410123456000006</td>\n      <td>visa</td>\n      <td>100000</td>\n      <td>0</td>\n      <td>10150.0</td>\n      <td>100000</td>\n      <td>66000</td>\n      <td>25.0</td>\n      <td>1</td>\n      <td>0.000000</td>\n      <td>800.000000</td>\n      <td>0.0</td>\n      <td>13570.0</td>\n      <td>3780.0</td>\n      <td>0</td>\n      <td>1</td>\n      <td>0</td>\n      <td>6</td>\n      <td>3</td>\n      <td>7</td>\n    </tr>\n  </tbody>\n</table>\n</div>"
                    }, 
                    "metadata": {}, 
                    "output_type": "execute_result", 
                    "execution_count": 10
                }
            ], 
            "metadata": {}, 
            "source": "\ndf_data_3 = pd.read_csv(get_object_storage_file_with_credentials_b3d150584aa142a1975f62c1c8b1699a('201710kbankibm', 'output.csv'))\ndf_data_3.head()\n", 
            "cell_type": "code", 
            "execution_count": 10
        }, 
        {
            "outputs": [
                {
                    "name": "stderr", 
                    "output_type": "stream", 
                    "text": "/gpfs/fs01/user/sc9e-85ff83ddf64048-ccef6e89e67a/.local/lib/python2.7/site-packages/sklearn/cross_validation.py:44: DeprecationWarning: This module was deprecated in version 0.18 in favor of the model_selection module into which all the refactored classes and functions are moved. Also note that the interface of the new CV iterators are different from that of this module. This module will be removed in 0.20.\n  \"This module will be removed in 0.20.\", DeprecationWarning)\n/gpfs/fs01/user/sc9e-85ff83ddf64048-ccef6e89e67a/.local/lib/python2.7/site-packages/sklearn/lda.py:6: DeprecationWarning: lda.LDA has been moved to discriminant_analysis.LinearDiscriminantAnalysis in 0.17 and will be removed in 0.19\n  \"in 0.17 and will be removed in 0.19\", DeprecationWarning)\n"
                }
            ], 
            "metadata": {}, 
            "source": "from sklearn.ensemble import RandomForestClassifier, AdaBoostClassifier\nfrom sklearn.svm import SVC\nfrom sklearn.ensemble import GradientBoostingRegressor\nfrom sklearn.cross_validation import train_test_split\nfrom sklearn.metrics import confusion_matrix\nfrom sklearn.metrics import classification_report\nfrom sklearn.metrics.regression import mean_absolute_error, mean_squared_error\nfrom sklearn.lda import LDA\nfrom sklearn.svm import SVC", 
            "cell_type": "code", 
            "execution_count": 11
        }, 
        {
            "outputs": [
                {
                    "data": {
                        "text/plain": "   Automobiles and Vehicles-freq  Clothing Stores-freq  \\\n0                              0                     0   \n1                              0                     0   \n2                              0                     0   \n3                              0                     0   \n4                              0                     0   \n\n   Service Providers-freq  Transportation-freq  Utilities-freq  \\\n0                       0                    0               0   \n1                       1                    0               0   \n2                       0                    0               0   \n3                       0                    0               0   \n4                       0                    1               0   \n\n   Automobiles and Vehicles-sum  Clothing Stores-sum  Service Providers-sum  \\\n0                           0.0                  0.0                    0.0   \n1                           0.0                  0.0                 1580.0   \n2                           0.0                  0.0                    0.0   \n3                           0.0                  0.0                    0.0   \n4                           0.0                  0.0                    0.0   \n\n   Transportation-sum  Utilities-sum  \n0                 0.0            0.0  \n1                 0.0            0.0  \n2                 0.0            0.0  \n3                 0.0            0.0  \n4               780.0            0.0  ", 
                        "text/html": "<div>\n<table border=\"1\" class=\"dataframe\">\n  <thead>\n    <tr style=\"text-align: right;\">\n      <th></th>\n      <th>Automobiles and Vehicles-freq</th>\n      <th>Clothing Stores-freq</th>\n      <th>Service Providers-freq</th>\n      <th>Transportation-freq</th>\n      <th>Utilities-freq</th>\n      <th>Automobiles and Vehicles-sum</th>\n      <th>Clothing Stores-sum</th>\n      <th>Service Providers-sum</th>\n      <th>Transportation-sum</th>\n      <th>Utilities-sum</th>\n    </tr>\n  </thead>\n  <tbody>\n    <tr>\n      <th>0</th>\n      <td>0</td>\n      <td>0</td>\n      <td>0</td>\n      <td>0</td>\n      <td>0</td>\n      <td>0.0</td>\n      <td>0.0</td>\n      <td>0.0</td>\n      <td>0.0</td>\n      <td>0.0</td>\n    </tr>\n    <tr>\n      <th>1</th>\n      <td>0</td>\n      <td>0</td>\n      <td>1</td>\n      <td>0</td>\n      <td>0</td>\n      <td>0.0</td>\n      <td>0.0</td>\n      <td>1580.0</td>\n      <td>0.0</td>\n      <td>0.0</td>\n    </tr>\n    <tr>\n      <th>2</th>\n      <td>0</td>\n      <td>0</td>\n      <td>0</td>\n      <td>0</td>\n      <td>0</td>\n      <td>0.0</td>\n      <td>0.0</td>\n      <td>0.0</td>\n      <td>0.0</td>\n      <td>0.0</td>\n    </tr>\n    <tr>\n      <th>3</th>\n      <td>0</td>\n      <td>0</td>\n      <td>0</td>\n      <td>0</td>\n      <td>0</td>\n      <td>0.0</td>\n      <td>0.0</td>\n      <td>0.0</td>\n      <td>0.0</td>\n      <td>0.0</td>\n    </tr>\n    <tr>\n      <th>4</th>\n      <td>0</td>\n      <td>0</td>\n      <td>0</td>\n      <td>1</td>\n      <td>0</td>\n      <td>0.0</td>\n      <td>0.0</td>\n      <td>0.0</td>\n      <td>780.0</td>\n      <td>0.0</td>\n    </tr>\n  </tbody>\n</table>\n</div>"
                    }, 
                    "metadata": {}, 
                    "output_type": "execute_result", 
                    "execution_count": 12
                }
            ], 
            "metadata": {}, 
            "source": "\ndf_data_4 = pd.read_csv(get_object_storage_file_with_credentials_b3d150584aa142a1975f62c1c8b1699a('201710kbankibm', 'answer.csv'))\ndf_data_4.head()\n", 
            "cell_type": "code", 
            "execution_count": 12
        }, 
        {
            "outputs": [
                {
                    "traceback": [
                        "\u001b[0;31m\u001b[0m", 
                        "\u001b[0;31mValueError\u001b[0mTraceback (most recent call last)", 
                        "\u001b[0;32m<ipython-input-13-f8f9e20d9981>\u001b[0m in \u001b[0;36m<module>\u001b[0;34m()\u001b[0m\n\u001b[1;32m      2\u001b[0m \u001b[0mx\u001b[0m\u001b[0;34m,\u001b[0m \u001b[0my\u001b[0m\u001b[0;34m=\u001b[0m \u001b[0mdf_data_3\u001b[0m\u001b[0;34m.\u001b[0m\u001b[0miloc\u001b[0m\u001b[0;34m[\u001b[0m\u001b[0;34m:\u001b[0m\u001b[0;34m,\u001b[0m \u001b[0;36m1\u001b[0m\u001b[0;34m:\u001b[0m\u001b[0;34m]\u001b[0m\u001b[0;34m.\u001b[0m\u001b[0mcopy\u001b[0m\u001b[0;34m(\u001b[0m\u001b[0;34m)\u001b[0m\u001b[0;34m,\u001b[0m \u001b[0mdf_data_4\u001b[0m\u001b[0;34m.\u001b[0m\u001b[0miloc\u001b[0m\u001b[0;34m[\u001b[0m\u001b[0;34m:\u001b[0m\u001b[0;34m,\u001b[0m\u001b[0;36m1\u001b[0m\u001b[0;34m:\u001b[0m\u001b[0;36m10\u001b[0m\u001b[0;34m]\u001b[0m\u001b[0;34m.\u001b[0m\u001b[0mcopy\u001b[0m\u001b[0;34m(\u001b[0m\u001b[0;34m)\u001b[0m\u001b[0;34m\u001b[0m\u001b[0m\n\u001b[1;32m      3\u001b[0m \u001b[0;31m#X_tr, X_valid, y_tr, y_valid = cross_validation.train_test_split(X_sc, y, test_size=0.30, random_state=0)\u001b[0m\u001b[0;34m\u001b[0m\u001b[0;34m\u001b[0m\u001b[0m\n\u001b[0;32m----> 4\u001b[0;31m \u001b[0mx_train\u001b[0m\u001b[0;34m,\u001b[0m \u001b[0mx_test\u001b[0m\u001b[0;34m,\u001b[0m \u001b[0my_train\u001b[0m\u001b[0;34m,\u001b[0m \u001b[0my_test\u001b[0m \u001b[0;34m=\u001b[0m \u001b[0mtrain_test_split\u001b[0m\u001b[0;34m(\u001b[0m\u001b[0mdf_data_3\u001b[0m\u001b[0;34m.\u001b[0m\u001b[0miloc\u001b[0m\u001b[0;34m[\u001b[0m\u001b[0;34m:\u001b[0m\u001b[0;34m,\u001b[0m \u001b[0;36m1\u001b[0m\u001b[0;34m:\u001b[0m\u001b[0;34m]\u001b[0m\u001b[0;34m,\u001b[0m \u001b[0mdf_data_4\u001b[0m\u001b[0;34m.\u001b[0m\u001b[0miloc\u001b[0m\u001b[0;34m[\u001b[0m\u001b[0;34m:\u001b[0m\u001b[0;34m,\u001b[0m \u001b[0;36m11\u001b[0m\u001b[0;34m:\u001b[0m\u001b[0;34m]\u001b[0m\u001b[0;34m,\u001b[0m \u001b[0mtest_size\u001b[0m\u001b[0;34m=\u001b[0m\u001b[0;36m0.3\u001b[0m\u001b[0;34m)\u001b[0m\u001b[0;34m\u001b[0m\u001b[0m\n\u001b[0m\u001b[1;32m      5\u001b[0m \u001b[0msvc\u001b[0m \u001b[0;34m=\u001b[0m \u001b[0mSVC\u001b[0m\u001b[0;34m(\u001b[0m\u001b[0mkernel\u001b[0m\u001b[0;34m=\u001b[0m\u001b[0;34m'linear'\u001b[0m\u001b[0;34m)\u001b[0m\u001b[0;34m\u001b[0m\u001b[0m\n\u001b[1;32m      6\u001b[0m \u001b[0msvc\u001b[0m\u001b[0;34m.\u001b[0m\u001b[0mfit\u001b[0m\u001b[0;34m(\u001b[0m\u001b[0mx_train\u001b[0m\u001b[0;34m,\u001b[0m \u001b[0my_train\u001b[0m\u001b[0;34m)\u001b[0m\u001b[0;34m\u001b[0m\u001b[0m\n", 
                        "\u001b[0;32m/gpfs/fs01/user/sc9e-85ff83ddf64048-ccef6e89e67a/.local/lib/python2.7/site-packages/sklearn/cross_validation.pyc\u001b[0m in \u001b[0;36mtrain_test_split\u001b[0;34m(*arrays, **options)\u001b[0m\n\u001b[1;32m   2037\u001b[0m     \u001b[0;32mif\u001b[0m \u001b[0mtest_size\u001b[0m \u001b[0;32mis\u001b[0m \u001b[0mNone\u001b[0m \u001b[0;32mand\u001b[0m \u001b[0mtrain_size\u001b[0m \u001b[0;32mis\u001b[0m \u001b[0mNone\u001b[0m\u001b[0;34m:\u001b[0m\u001b[0;34m\u001b[0m\u001b[0m\n\u001b[1;32m   2038\u001b[0m         \u001b[0mtest_size\u001b[0m \u001b[0;34m=\u001b[0m \u001b[0;36m0.25\u001b[0m\u001b[0;34m\u001b[0m\u001b[0m\n\u001b[0;32m-> 2039\u001b[0;31m     \u001b[0marrays\u001b[0m \u001b[0;34m=\u001b[0m \u001b[0mindexable\u001b[0m\u001b[0;34m(\u001b[0m\u001b[0;34m*\u001b[0m\u001b[0marrays\u001b[0m\u001b[0;34m)\u001b[0m\u001b[0;34m\u001b[0m\u001b[0m\n\u001b[0m\u001b[1;32m   2040\u001b[0m     \u001b[0;32mif\u001b[0m \u001b[0mstratify\u001b[0m \u001b[0;32mis\u001b[0m \u001b[0;32mnot\u001b[0m \u001b[0mNone\u001b[0m\u001b[0;34m:\u001b[0m\u001b[0;34m\u001b[0m\u001b[0m\n\u001b[1;32m   2041\u001b[0m         cv = StratifiedShuffleSplit(stratify, test_size=test_size,\n", 
                        "\u001b[0;32m/gpfs/fs01/user/sc9e-85ff83ddf64048-ccef6e89e67a/.local/lib/python2.7/site-packages/sklearn/utils/validation.pyc\u001b[0m in \u001b[0;36mindexable\u001b[0;34m(*iterables)\u001b[0m\n\u001b[1;32m    204\u001b[0m         \u001b[0;32melse\u001b[0m\u001b[0;34m:\u001b[0m\u001b[0;34m\u001b[0m\u001b[0m\n\u001b[1;32m    205\u001b[0m             \u001b[0mresult\u001b[0m\u001b[0;34m.\u001b[0m\u001b[0mappend\u001b[0m\u001b[0;34m(\u001b[0m\u001b[0mnp\u001b[0m\u001b[0;34m.\u001b[0m\u001b[0marray\u001b[0m\u001b[0;34m(\u001b[0m\u001b[0mX\u001b[0m\u001b[0;34m)\u001b[0m\u001b[0;34m)\u001b[0m\u001b[0;34m\u001b[0m\u001b[0m\n\u001b[0;32m--> 206\u001b[0;31m     \u001b[0mcheck_consistent_length\u001b[0m\u001b[0;34m(\u001b[0m\u001b[0;34m*\u001b[0m\u001b[0mresult\u001b[0m\u001b[0;34m)\u001b[0m\u001b[0;34m\u001b[0m\u001b[0m\n\u001b[0m\u001b[1;32m    207\u001b[0m     \u001b[0;32mreturn\u001b[0m \u001b[0mresult\u001b[0m\u001b[0;34m\u001b[0m\u001b[0m\n\u001b[1;32m    208\u001b[0m \u001b[0;34m\u001b[0m\u001b[0m\n", 
                        "\u001b[0;32m/gpfs/fs01/user/sc9e-85ff83ddf64048-ccef6e89e67a/.local/lib/python2.7/site-packages/sklearn/utils/validation.pyc\u001b[0m in \u001b[0;36mcheck_consistent_length\u001b[0;34m(*arrays)\u001b[0m\n\u001b[1;32m    179\u001b[0m     \u001b[0;32mif\u001b[0m \u001b[0mlen\u001b[0m\u001b[0;34m(\u001b[0m\u001b[0muniques\u001b[0m\u001b[0;34m)\u001b[0m \u001b[0;34m>\u001b[0m \u001b[0;36m1\u001b[0m\u001b[0;34m:\u001b[0m\u001b[0;34m\u001b[0m\u001b[0m\n\u001b[1;32m    180\u001b[0m         raise ValueError(\"Found input variables with inconsistent numbers of\"\n\u001b[0;32m--> 181\u001b[0;31m                          \" samples: %r\" % [int(l) for l in lengths])\n\u001b[0m\u001b[1;32m    182\u001b[0m \u001b[0;34m\u001b[0m\u001b[0m\n\u001b[1;32m    183\u001b[0m \u001b[0;34m\u001b[0m\u001b[0m\n", 
                        "\u001b[0;31mValueError\u001b[0m: Found input variables with inconsistent numbers of samples: [92520, 99594]"
                    ], 
                    "output_type": "error", 
                    "evalue": "Found input variables with inconsistent numbers of samples: [92520, 99594]", 
                    "ename": "ValueError"
                }
            ], 
            "metadata": {}, 
            "source": "\nx, y= df_data_3.iloc[:, 1:].copy(), df_data_4.iloc[:,1:10].copy()\n#X_tr, X_valid, y_tr, y_valid = cross_validation.train_test_split(X_sc, y, test_size=0.30, random_state=0)\nx_train, x_test, y_train, y_test = train_test_split(df_data_3.iloc[:, 1:], df_data_4.iloc[:, 11:], test_size=0.3)\nsvc = SVC(kernel='linear')\nsvc.fit(x_train, y_train)\n\n", 
            "cell_type": "code", 
            "execution_count": 13
        }, 
        {
            "outputs": [], 
            "metadata": {
                "collapsed": true
            }, 
            "source": "", 
            "cell_type": "code", 
            "execution_count": null
        }
    ], 
    "nbformat": 4
}