{
    "nbformat_minor": 1, 
    "cells": [
        {
            "source": "!pwd", 
            "cell_type": "code", 
            "metadata": {
                "scrolled": true
            }, 
            "outputs": [
                {
                    "output_type": "stream", 
                    "name": "stdout", 
                    "text": "/gpfs/fs01/user/sfbc-20c2d955c74628-3c618564d05f/notebook/work\r\n"
                }
            ], 
            "execution_count": 1
        }, 
        {
            "source": "import base64  \nimport pandas as pd  \ndf = pd.DataFrame(data = [[1,2],[3,4]], columns=['Col 1', 'Col 2'])\n", 
            "cell_type": "code", 
            "metadata": {}, 
            "outputs": [], 
            "execution_count": 2
        }, 
        {
            "source": "#write dataframe to file\ndf.to_csv(\"test1.csv\")  \n#read it back\npd.read_csv(\"test1.csv\").head()", 
            "cell_type": "code", 
            "metadata": {}, 
            "outputs": [
                {
                    "output_type": "execute_result", 
                    "data": {
                        "text/html": "<div>\n<table border=\"1\" class=\"dataframe\">\n  <thead>\n    <tr style=\"text-align: right;\">\n      <th></th>\n      <th>Unnamed: 0</th>\n      <th>Col 1</th>\n      <th>Col 2</th>\n    </tr>\n  </thead>\n  <tbody>\n    <tr>\n      <th>0</th>\n      <td>0</td>\n      <td>1</td>\n      <td>2</td>\n    </tr>\n    <tr>\n      <th>1</th>\n      <td>1</td>\n      <td>3</td>\n      <td>4</td>\n    </tr>\n  </tbody>\n</table>\n</div>", 
                        "text/plain": "   Unnamed: 0  Col 1  Col 2\n0           0      1      2\n1           1      3      4"
                    }, 
                    "execution_count": 3, 
                    "metadata": {}
                }
            ], 
            "execution_count": 3
        }, 
        {
            "source": "from IPython.display import HTML\n\ndef create_download_link( df, title = \"Download CSV file\", filename = \"data.csv\"):  \n    csv = df.to_csv()\n    b64 = base64.b64encode(csv.encode())\n    payload = b64.decode()\n    html = '<a download=\"{filename}\" href=\"data:text/csv;base64,{payload}\" target=\"_blank\">{title}</a>'\n    html = html.format(payload=payload,title=title,filename=filename)\n    return HTML(html)\n\ncreate_download_link(df)", 
            "cell_type": "code", 
            "metadata": {}, 
            "outputs": [
                {
                    "output_type": "execute_result", 
                    "data": {
                        "text/html": "<a download=\"data.csv\" href=\"data:text/csv;base64,LENvbCAxLENvbCAyCjAsMSwyCjEsMyw0Cg==\" target=\"_blank\">Download CSV file</a>", 
                        "text/plain": "<IPython.core.display.HTML object>"
                    }, 
                    "execution_count": 4, 
                    "metadata": {}
                }
            ], 
            "execution_count": 4
        }, 
        {
            "source": "", 
            "cell_type": "code", 
            "metadata": {}, 
            "outputs": [], 
            "execution_count": null
        }, 
        {
            "source": "# Correlation of text content across documents", 
            "cell_type": "markdown", 
            "metadata": {
                "collapsed": true
            }
        }, 
        {
            "source": "## 1. Setup\nTo prepare your environment, you need to install some packages and enter credentials for the Watson services.\n\n### 1.1 Install the necessary packages\n\nYou need the latest versions of these packages:<br>\nWatson Developer Cloud: a client library for Watson services.<br>\nNLTK: leading platform for building Python programs to work with human language data.<br>\npython-keystoneclient: is a client for the OpenStack Identity API.<br>\npython-swiftclient: is a python client for the Swift API.<br><br>\n** Install the Watson Developer Cloud package: **", 
            "cell_type": "markdown", 
            "metadata": {}
        }, 
        {
            "source": "!pip install --upgrade watson-developer-cloud", 
            "cell_type": "code", 
            "metadata": {}, 
            "outputs": [
                {
                    "output_type": "stream", 
                    "name": "stdout", 
                    "text": "Collecting watson-developer-cloud\n  Downloading watson-developer-cloud-1.0.2.tar.gz (138kB)\n\u001b[K    100% |\u2588\u2588\u2588\u2588\u2588\u2588\u2588\u2588\u2588\u2588\u2588\u2588\u2588\u2588\u2588\u2588\u2588\u2588\u2588\u2588\u2588\u2588\u2588\u2588\u2588\u2588\u2588\u2588\u2588\u2588\u2588\u2588| 143kB 1.0MB/s eta 0:00:01\n\u001b[?25hRequirement already up-to-date: requests<3.0,>=2.0 in /usr/local/src/bluemix_jupyter_bundle.v73/notebook/lib/python2.7/site-packages (from watson-developer-cloud)\nCollecting pysolr<4.0,>=3.3 (from watson-developer-cloud)\n  Downloading pysolr-3.6.0-py2.py3-none-any.whl\nCollecting pyOpenSSL>=16.2.0 (from watson-developer-cloud)\n  Downloading pyOpenSSL-17.5.0-py2.py3-none-any.whl (53kB)\n\u001b[K    100% |\u2588\u2588\u2588\u2588\u2588\u2588\u2588\u2588\u2588\u2588\u2588\u2588\u2588\u2588\u2588\u2588\u2588\u2588\u2588\u2588\u2588\u2588\u2588\u2588\u2588\u2588\u2588\u2588\u2588\u2588\u2588\u2588| 61kB 1.3MB/s eta 0:00:01\n\u001b[?25hCollecting python_dateutil>=2.5.3 (from watson-developer-cloud)\n  Downloading python_dateutil-2.6.1-py2.py3-none-any.whl (194kB)\n\u001b[K    100% |\u2588\u2588\u2588\u2588\u2588\u2588\u2588\u2588\u2588\u2588\u2588\u2588\u2588\u2588\u2588\u2588\u2588\u2588\u2588\u2588\u2588\u2588\u2588\u2588\u2588\u2588\u2588\u2588\u2588\u2588\u2588\u2588| 194kB 4.5MB/s eta 0:00:01\n\u001b[?25hRequirement already up-to-date: urllib3<1.23,>=1.21.1 in /usr/local/src/bluemix_jupyter_bundle.v73/notebook/lib/python2.7/site-packages (from requests<3.0,>=2.0->watson-developer-cloud)\nRequirement already up-to-date: idna<2.7,>=2.5 in /usr/local/src/bluemix_jupyter_bundle.v73/notebook/lib/python2.7/site-packages (from requests<3.0,>=2.0->watson-developer-cloud)\nCollecting chardet<3.1.0,>=3.0.2 (from requests<3.0,>=2.0->watson-developer-cloud)\n  Downloading chardet-3.0.4-py2.py3-none-any.whl (133kB)\n\u001b[K    100% |\u2588\u2588\u2588\u2588\u2588\u2588\u2588\u2588\u2588\u2588\u2588\u2588\u2588\u2588\u2588\u2588\u2588\u2588\u2588\u2588\u2588\u2588\u2588\u2588\u2588\u2588\u2588\u2588\u2588\u2588\u2588\u2588| 143kB 6.2MB/s eta 0:00:01\n\u001b[?25hCollecting certifi>=2017.4.17 (from requests<3.0,>=2.0->watson-developer-cloud)\n  Downloading certifi-2017.11.5-py2.py3-none-any.whl (330kB)\n\u001b[K    100% |\u2588\u2588\u2588\u2588\u2588\u2588\u2588\u2588\u2588\u2588\u2588\u2588\u2588\u2588\u2588\u2588\u2588\u2588\u2588\u2588\u2588\u2588\u2588\u2588\u2588\u2588\u2588\u2588\u2588\u2588\u2588\u2588| 337kB 3.0MB/s eta 0:00:01\n\u001b[?25hCollecting six>=1.5.2 (from pyOpenSSL>=16.2.0->watson-developer-cloud)\n  Using cached six-1.11.0-py2.py3-none-any.whl\nCollecting cryptography>=2.1.4 (from pyOpenSSL>=16.2.0->watson-developer-cloud)\n  Downloading cryptography-2.1.4-cp27-cp27mu-manylinux1_x86_64.whl (2.2MB)\n\u001b[K    100% |\u2588\u2588\u2588\u2588\u2588\u2588\u2588\u2588\u2588\u2588\u2588\u2588\u2588\u2588\u2588\u2588\u2588\u2588\u2588\u2588\u2588\u2588\u2588\u2588\u2588\u2588\u2588\u2588\u2588\u2588\u2588\u2588| 2.2MB 526kB/s eta 0:00:01\n\u001b[?25hCollecting cffi>=1.7; platform_python_implementation != \"PyPy\" (from cryptography>=2.1.4->pyOpenSSL>=16.2.0->watson-developer-cloud)\n  Downloading cffi-1.11.2-cp27-cp27mu-manylinux1_x86_64.whl (405kB)\n\u001b[K    100% |\u2588\u2588\u2588\u2588\u2588\u2588\u2588\u2588\u2588\u2588\u2588\u2588\u2588\u2588\u2588\u2588\u2588\u2588\u2588\u2588\u2588\u2588\u2588\u2588\u2588\u2588\u2588\u2588\u2588\u2588\u2588\u2588| 409kB 1.6MB/s eta 0:00:01\n\u001b[?25hCollecting enum34; python_version < \"3\" (from cryptography>=2.1.4->pyOpenSSL>=16.2.0->watson-developer-cloud)\n  Downloading enum34-1.1.6-py2-none-any.whl\nCollecting asn1crypto>=0.21.0 (from cryptography>=2.1.4->pyOpenSSL>=16.2.0->watson-developer-cloud)\n  Downloading asn1crypto-0.23.0-py2.py3-none-any.whl (99kB)\n\u001b[K    100% |\u2588\u2588\u2588\u2588\u2588\u2588\u2588\u2588\u2588\u2588\u2588\u2588\u2588\u2588\u2588\u2588\u2588\u2588\u2588\u2588\u2588\u2588\u2588\u2588\u2588\u2588\u2588\u2588\u2588\u2588\u2588\u2588| 102kB 467kB/s ta 0:00:01\n\u001b[?25hCollecting ipaddress; python_version < \"3\" (from cryptography>=2.1.4->pyOpenSSL>=16.2.0->watson-developer-cloud)\n  Downloading ipaddress-1.0.18-py2-none-any.whl\nCollecting pycparser (from cffi>=1.7; platform_python_implementation != \"PyPy\"->cryptography>=2.1.4->pyOpenSSL>=16.2.0->watson-developer-cloud)\n  Downloading pycparser-2.18.tar.gz (245kB)\n\u001b[K    100% |\u2588\u2588\u2588\u2588\u2588\u2588\u2588\u2588\u2588\u2588\u2588\u2588\u2588\u2588\u2588\u2588\u2588\u2588\u2588\u2588\u2588\u2588\u2588\u2588\u2588\u2588\u2588\u2588\u2588\u2588\u2588\u2588| 256kB 4.5MB/s eta 0:00:01\n\u001b[?25hBuilding wheels for collected packages: watson-developer-cloud, pycparser\n  Running setup.py bdist_wheel for watson-developer-cloud ... \u001b[?25ldone\n\u001b[?25h  Stored in directory: /gpfs/fs01/user/sfbc-20c2d955c74628-3c618564d05f/.cache/pip/wheels/4e/db/00/a8e227febd530f4bbc6a4b8d744cdec3400db3dd197c059054\n  Running setup.py bdist_wheel for pycparser ... \u001b[?25ldone\n\u001b[?25h  Stored in directory: /gpfs/fs01/user/sfbc-20c2d955c74628-3c618564d05f/.cache/pip/wheels/95/14/9a/5e7b9024459d2a6600aaa64e0ba485325aff7a9ac7489db1b6\nSuccessfully built watson-developer-cloud pycparser\nInstalling collected packages: pysolr, six, pycparser, cffi, enum34, asn1crypto, ipaddress, cryptography, pyOpenSSL, python-dateutil, watson-developer-cloud, chardet, certifi\nSuccessfully installed asn1crypto-0.23.0 certifi-2017.11.5 cffi-1.11.2 chardet-3.0.4 cryptography-2.1.4 enum34-1.1.6 ipaddress-1.0.18 pyOpenSSL-17.5.0 pycparser-2.18 pysolr-3.6.0 python-dateutil-2.6.1 six-1.11.0 watson-developer-cloud-1.0.2\n"
                }
            ], 
            "execution_count": 1
        }, 
        {
            "source": "** Install NLTK: **", 
            "cell_type": "markdown", 
            "metadata": {}
        }, 
        {
            "source": "!pip install --upgrade nltk", 
            "cell_type": "code", 
            "metadata": {}, 
            "outputs": [], 
            "execution_count": null
        }, 
        {
            "source": "** Install IBM Bluemix Object Storage Client: **", 
            "cell_type": "markdown", 
            "metadata": {}
        }, 
        {
            "source": "!pip install python-keystoneclient", 
            "cell_type": "code", 
            "metadata": {
                "scrolled": true
            }, 
            "outputs": [
                {
                    "output_type": "stream", 
                    "name": "stdout", 
                    "text": "Requirement already satisfied: python-keystoneclient in /usr/local/src/bluemix_jupyter_bundle.v73/notebook/lib/python2.7/site-packages\nRequirement already satisfied: pbr>=1.6 in /usr/local/src/bluemix_jupyter_bundle.v73/notebook/lib/python2.7/site-packages (from python-keystoneclient)\nRequirement already satisfied: stevedore>=1.5.0 in /usr/local/src/bluemix_jupyter_bundle.v73/notebook/lib/python2.7/site-packages (from python-keystoneclient)\nRequirement already satisfied: oslo.i18n>=1.5.0 in /usr/local/src/bluemix_jupyter_bundle.v73/notebook/lib/python2.7/site-packages (from python-keystoneclient)\nRequirement already satisfied: Babel>=1.3 in /usr/local/src/bluemix_jupyter_bundle.v73/notebook/lib/python2.7/site-packages (from python-keystoneclient)\nRequirement already satisfied: oslo.config>=2.7.0 in /usr/local/src/bluemix_jupyter_bundle.v73/notebook/lib/python2.7/site-packages (from python-keystoneclient)\nRequirement already satisfied: oslo.utils>=2.8.0 in /usr/local/src/bluemix_jupyter_bundle.v73/notebook/lib/python2.7/site-packages (from python-keystoneclient)\nRequirement already satisfied: netaddr!=0.7.16,>=0.7.12 in /usr/local/src/bluemix_jupyter_bundle.v73/notebook/lib/python2.7/site-packages (from python-keystoneclient)\nRequirement already satisfied: oslo.serialization>=1.10.0 in /usr/local/src/bluemix_jupyter_bundle.v73/notebook/lib/python2.7/site-packages (from python-keystoneclient)\nRequirement already satisfied: argparse in /usr/local/src/bluemix_jupyter_bundle.v73/notebook/lib/python2.7/site-packages (from python-keystoneclient)\nRequirement already satisfied: PrettyTable<0.8,>=0.7 in /usr/local/src/bluemix_jupyter_bundle.v73/notebook/lib/python2.7/site-packages (from python-keystoneclient)\nRequirement already satisfied: debtcollector>=0.3.0 in /usr/local/src/bluemix_jupyter_bundle.v73/notebook/lib/python2.7/site-packages (from python-keystoneclient)\nRequirement already satisfied: keystoneauth1>=1.0.0 in /usr/local/src/bluemix_jupyter_bundle.v73/notebook/lib/python2.7/site-packages (from python-keystoneclient)\nRequirement already satisfied: iso8601>=0.1.9 in /usr/local/src/bluemix_jupyter_bundle.v73/notebook/lib/python2.7/site-packages (from python-keystoneclient)\nRequirement already satisfied: requests>=2.8.1 in /usr/local/src/bluemix_jupyter_bundle.v73/notebook/lib/python2.7/site-packages (from python-keystoneclient)\nRequirement already satisfied: six>=1.9.0 in /gpfs/global_fs01/sym_shared/YPProdSpark/user/sfbc-20c2d955c74628-3c618564d05f/.local/lib/python2.7/site-packages (from python-keystoneclient)\nRequirement already satisfied: pytz>=0a in /usr/local/src/bluemix_jupyter_bundle.v73/notebook/lib/python2.7/site-packages (from Babel>=1.3->python-keystoneclient)\nRequirement already satisfied: monotonic>=0.3 in /usr/local/src/bluemix_jupyter_bundle.v73/notebook/lib/python2.7/site-packages (from oslo.utils>=2.8.0->python-keystoneclient)\nRequirement already satisfied: netifaces>=0.10.4 in /usr/local/src/bluemix_jupyter_bundle.v73/notebook/lib/python2.7/site-packages (from oslo.utils>=2.8.0->python-keystoneclient)\nRequirement already satisfied: msgpack-python>=0.4.0 in /usr/local/src/bluemix_jupyter_bundle.v73/notebook/lib/python2.7/site-packages (from oslo.serialization>=1.10.0->python-keystoneclient)\nRequirement already satisfied: wrapt>=1.7.0 in /usr/local/src/bluemix_jupyter_bundle.v73/notebook/lib/python2.7/site-packages (from debtcollector>=0.3.0->python-keystoneclient)\nRequirement already satisfied: urllib3<1.23,>=1.21.1 in /usr/local/src/bluemix_jupyter_bundle.v73/notebook/lib/python2.7/site-packages (from requests>=2.8.1->python-keystoneclient)\nRequirement already satisfied: idna<2.7,>=2.5 in /usr/local/src/bluemix_jupyter_bundle.v73/notebook/lib/python2.7/site-packages (from requests>=2.8.1->python-keystoneclient)\nRequirement already satisfied: chardet<3.1.0,>=3.0.2 in /gpfs/global_fs01/sym_shared/YPProdSpark/user/sfbc-20c2d955c74628-3c618564d05f/.local/lib/python2.7/site-packages (from requests>=2.8.1->python-keystoneclient)\nRequirement already satisfied: certifi>=2017.4.17 in /gpfs/global_fs01/sym_shared/YPProdSpark/user/sfbc-20c2d955c74628-3c618564d05f/.local/lib/python2.7/site-packages (from requests>=2.8.1->python-keystoneclient)\n"
                }
            ], 
            "execution_count": 2
        }, 
        {
            "source": "!pip install python-swiftclient", 
            "cell_type": "code", 
            "metadata": {}, 
            "outputs": [
                {
                    "output_type": "stream", 
                    "name": "stdout", 
                    "text": "Requirement already satisfied: python-swiftclient in /usr/local/src/bluemix_jupyter_bundle.v73/notebook/lib/python2.7/site-packages\nRequirement already satisfied: requests>=1.1 in /usr/local/src/bluemix_jupyter_bundle.v73/notebook/lib/python2.7/site-packages (from python-swiftclient)\nRequirement already satisfied: futures>=3.0; python_version == \"2.7\" or python_version == \"2.6\" in /usr/local/src/bluemix_jupyter_bundle.v73/notebook/lib/python2.7/site-packages (from python-swiftclient)\nRequirement already satisfied: six>=1.5.2 in /gpfs/global_fs01/sym_shared/YPProdSpark/user/sfbc-20c2d955c74628-3c618564d05f/.local/lib/python2.7/site-packages (from python-swiftclient)\nRequirement already satisfied: urllib3<1.23,>=1.21.1 in /usr/local/src/bluemix_jupyter_bundle.v73/notebook/lib/python2.7/site-packages (from requests>=1.1->python-swiftclient)\nRequirement already satisfied: idna<2.7,>=2.5 in /usr/local/src/bluemix_jupyter_bundle.v73/notebook/lib/python2.7/site-packages (from requests>=1.1->python-swiftclient)\nRequirement already satisfied: chardet<3.1.0,>=3.0.2 in /gpfs/global_fs01/sym_shared/YPProdSpark/user/sfbc-20c2d955c74628-3c618564d05f/.local/lib/python2.7/site-packages (from requests>=1.1->python-swiftclient)\nRequirement already satisfied: certifi>=2017.4.17 in /gpfs/global_fs01/sym_shared/YPProdSpark/user/sfbc-20c2d955c74628-3c618564d05f/.local/lib/python2.7/site-packages (from requests>=1.1->python-swiftclient)\n"
                }
            ], 
            "execution_count": 3
        }, 
        {
            "source": "** <font color=blue>Now restart the kernel by choosing Kernel > Restart. </font> **", 
            "cell_type": "markdown", 
            "metadata": {}
        }, 
        {
            "source": "### 1.2 Import packages and libraries\n\nImport the packages and libraries that you'll use:", 
            "cell_type": "markdown", 
            "metadata": {}
        }, 
        {
            "source": "import json\nimport sys\nimport thread\nimport time\nimport watson_developer_cloud\nfrom watson_developer_cloud import NaturalLanguageUnderstandingV1\nfrom watson_developer_cloud.natural_language_understanding_v1 \\\n  import Features, EntitiesOptions, KeywordsOptions,SemanticRolesOptions\n    \nimport swiftclient\nfrom keystoneclient import client\n    \nimport operator\nfrom functools import reduce\nfrom io import StringIO\nimport numpy as np\nfrom os.path import join, dirname\nimport requests\nimport re\nimport pandas as pd\nimport nltk\nfrom nltk.cluster.util import cosine_distance\nfrom nltk import word_tokenize,sent_tokenize,ne_chunk\nfrom nltk.corpus import stopwords\nimport networkx as nx\nimport matplotlib.pyplot as plt\nimport numpy", 
            "cell_type": "code", 
            "metadata": {
                "scrolled": true
            }, 
            "outputs": [], 
            "execution_count": 4
        }, 
        {
            "source": "## 2. Configuration\n\nAdd configurable items of the notebook below\n\n### 2.1 Add your service credentials from Bluemix for the Watson services\n\nYou must create a Watson Natural Language Understanding service on Bluemix.\nCreate a service for Natural Language Understanding (NLU).\nInsert the username and password values for your NLU in the following cell. Do not change the values of the version fields.\n\nRun the cell.", 
            "cell_type": "markdown", 
            "metadata": {}
        }, 
        {
            "source": "# @hidden_cell\nnatural_language_understanding = NaturalLanguageUnderstandingV1(\n    version='2017-02-27',\n    username=\"c17af570-56c7-4eb9-ac31-02bd00a59fcc\",\n    password=\"in0gigAhn0td\")", 
            "cell_type": "code", 
            "metadata": {
                "scrolled": true
            }, 
            "outputs": [], 
            "execution_count": 5
        }, 
        {
            "source": "### 2.2 Add your service credentials for Object Storage\n\nYou must create Object Storage service on Bluemix.\nTo access data in a file in Object Storage, you need the Object Storage authentication credentials.\nInsert the Object Storage authentication credentials in the following cell. \n", 
            "cell_type": "markdown", 
            "metadata": {}
        }, 
        {
            "source": "\n# @hidden_cell\n# The following code contains the credentials for a file in your IBM Cloud Object Storage.\n# You might want to remove those credentials before you share your notebook.\ncredentials_1 = {\n    'IBM_API_KEY_ID': 'rCEutCTVbYiDKDqWrSU-G_YD5-YbqUZRhXBboFD25PHM',\n    'IBM_SERIVCE_INSTANCE_ID': 'iam-ServiceId-315c1a38-7c02-4c01-90be-598fa4710933',\n    'ENDPOINT': 'https://s3-api.us-geo.objectstorage.service.networklayer.com',\n    'IBM_AUTH_ENDPOINT': 'https://iam.ng.bluemix.net/oidc/token',\n    'BUCKET': 'textanalyticscourse291b8c2b2fd34be0aaeaf42d0c9becc5',\n    'FILE': 'sample_text_2.txt'\n}\n", 
            "cell_type": "code", 
            "metadata": {}, 
            "outputs": [], 
            "execution_count": 7
        }, 
        {
            "source": "# @hidden_cell\ncredentials_1 = {\n  'auth_url':'',\n  'project':'',\n  'project_id':'',\n  'region':'',\n  'user_id':'',\n  'domain_id':'',\n  'domain_name':'',\n  'username':'',\n  'password':\"\",\n  'container':'',\n  'filename':''\n}", 
            "cell_type": "code", 
            "metadata": {
                "collapsed": true
            }, 
            "outputs": [], 
            "execution_count": null
        }, 
        {
            "source": "### 2.3 Global Variables\n\nAdd global variables.\n", 
            "cell_type": "markdown", 
            "metadata": {}
        }, 
        {
            "source": "# Specify file names for sample text and configuration files\nsampleTextFileName1 = \"sample_text_1.txt\"\nsampleTextFileName2 = \"sample_text_2.txt\"\nsampleConfigFileName = \"sample_config.txt\"\n\n# Maintain tagged text and plain text map\ntagTextMap ={}\n\n# Stop words\nstopWords = stopwords.words('english')\n# Additional words to be ignored \nstopWords.extend([\"The\",\"This\",\"That\",\".\",\"!\",\"?\"])", 
            "cell_type": "code", 
            "metadata": {}, 
            "outputs": [], 
            "execution_count": 6
        }, 
        {
            "source": "### 2.4 Configure and download required NLTK packages\n\nDownload the 'punkt' and 'averaged_perceptron_tagger' NLTK packages for POS tagging usage.", 
            "cell_type": "markdown", 
            "metadata": {}
        }, 
        {
            "source": "nltk.download('punkt')\nnltk.download('averaged_perceptron_tagger')\nnltk.download('maxent_ne_chunker')\nnltk.download('words')\n\nlemmatizer = nltk.WordNetLemmatizer()\nstemmer = nltk.stem.porter.PorterStemmer()\n", 
            "cell_type": "code", 
            "metadata": {}, 
            "outputs": [
                {
                    "output_type": "stream", 
                    "name": "stdout", 
                    "text": "[nltk_data] Downloading package punkt to /gpfs/fs01/user/sfbc-\n[nltk_data]     20c2d955c74628-3c618564d05f/nltk_data...\n[nltk_data]   Package punkt is already up-to-date!\n[nltk_data] Downloading package averaged_perceptron_tagger to\n[nltk_data]     /gpfs/fs01/user/sfbc-\n[nltk_data]     20c2d955c74628-3c618564d05f/nltk_data...\n[nltk_data]   Package averaged_perceptron_tagger is already up-to-\n[nltk_data]       date!\n[nltk_data] Downloading package maxent_ne_chunker to /gpfs/fs01/user\n[nltk_data]     /sfbc-20c2d955c74628-3c618564d05f/nltk_data...\n[nltk_data]   Package maxent_ne_chunker is already up-to-date!\n[nltk_data] Downloading package words to /gpfs/fs01/user/sfbc-\n[nltk_data]     20c2d955c74628-3c618564d05f/nltk_data...\n[nltk_data]   Package words is already up-to-date!\n"
                }
            ], 
            "execution_count": 8
        }, 
        {
            "source": "## 3. Correlation\n\nWrite the correlation related utility functions in a modularalized form.\n\n### 3.1 Watson NLU API", 
            "cell_type": "markdown", 
            "metadata": {}
        }, 
        {
            "source": "def analyze_using_NLU(analysistext):\n    response = natural_language_understanding.analyze( \n        text=analysistext,\n        features=Features(entities=EntitiesOptions(), \n                          keywords=KeywordsOptions(),\n                          semantic_roles=SemanticRolesOptions()))\n\n    return response", 
            "cell_type": "code", 
            "metadata": {
                "scrolled": true
            }, 
            "outputs": [], 
            "execution_count": 9
        }, 
        {
            "source": "### 3.2 Augumented Correlation\n\nCustom correlation utlity fucntions for augumenting the results of Watson NLU API call", 
            "cell_type": "markdown", 
            "metadata": {}
        }, 
        {
            "source": "def split_sentences(text):\n    \"\"\" Split text into sentences.\n    \"\"\"\n    sentence_delimiters = re.compile(u'[\\\\[\\\\]\\n.!?]')\n    sentences = sentence_delimiters.split(text)\n    return sentences\n\ndef split_into_tokens(text):\n    \"\"\" Split text into tokens.\n    \"\"\"\n    tokens = nltk.word_tokenize(text)\n    return tokens\n    \ndef POS_tagging(text):\n    \"\"\" Generate Part of speech tagging of the text.\n    \"\"\"\n    POSofText = nltk.tag.pos_tag(text)\n    return POSofText\n\ndef keyword_tagging(tag,tagtext,text):\n    \"\"\" Tag the text matching keywords.\n    \"\"\"\n    if (text.lower().find(tagtext.lower()) != -1):\n        return text[text.lower().find(tagtext.lower()):text.lower().find(tagtext.lower())+len(tagtext)]\n    else:\n        return 'UNKNOWN'\n    \ndef regex_tagging(tag,regex,text):\n    \"\"\" Tag the text matching REGEX.\n    \"\"\"    \n    p = re.compile(regex, re.IGNORECASE)\n    matchtext = p.findall(text)\n    regex_list=[]    \n    if (len(matchtext)>0):\n        for regword in matchtext:\n            regex_list.append(regword)\n    return regex_list\n\ndef chunk_tagging(tag,chunk,text):\n    \"\"\" Tag the text using chunking.\n    \"\"\"\n    parsed_cp = nltk.RegexpParser(chunk)\n    pos_cp = parsed_cp.parse(text)\n    chunk_list=[]\n    for root in pos_cp:\n        if isinstance(root, nltk.tree.Tree):               \n            if root.label() == tag:\n                chunk_word = ''\n                for child_root in root:\n                    chunk_word = chunk_word +' '+ child_root[0]\n                chunk_list.append(chunk_word)\n    return chunk_list\n    \ndef augument_NLUResponse(responsejson,updateType,text,tag):\n    \"\"\" Update the NLU response JSON with augumented classifications.\n    \"\"\"\n    if(updateType == 'keyword'):\n        if not any(d.get('text', None) == text for d in responsejson['keywords']):\n            responsejson['keywords'].append({\"text\":text,\"relevance\":0.5})\n    else:\n        if not any(d.get('text', None) == text for d in responsejson['entities']):\n            responsejson['entities'].append({\"type\":tag,\"text\":text,\"relevance\":0.5,\"count\":1})        \n    \ndef chunk_sentence(text):\n    \"\"\" Tag the sentence using chunking.\n    \"\"\"\n    grammar = \"\"\"\n      NP: {<DT|JJ|PRP|NN.*>+} # Chunk sequences of DT,JJ,NN\n          #}<VB*|DT|JJ|RB|PRP><NN.*>+{  # Chink sequences of VB,DT,JJ,NN       \n      PP: {<IN><NP>}               # Chunk prepositions followed by NP\n      V: {<V.*>}                   # Verb      \n      VP: {<VB*><NP|PP|CLAUSE>+}  # Chunk verbs and their arguments\n      CLAUSE: {<NP><VP>}           # Chunk NP, VP\n      \"\"\"  \n    parsed_cp = nltk.RegexpParser(grammar,loop=2)\n    pos_cp = parsed_cp.parse(text)\n    return pos_cp\n    \ndef find_attrs(subtree,phrase):\n    attrs = ''\n    if phrase == 'NP':\n        for nodes in subtree:\n            if nodes[1] in ['DT','PRP$','POS','JJ','CD','ADJP','QP','NP','NNP']:\n                attrs = attrs+' '+nodes[0]\n    return attrs    \n    \ndef find_subject(t):\n    for s in t.subtrees(lambda t: t.label() == 'NP'):\n        return find_attrs(s,'NP')\n    \ndef resolve_coreference(text, config):\n    \"\"\" Resolve coreferences in the text for Nouns that are Subjects in a sentence\n    \"\"\"\n    sentenceList = split_sentences(text)\n    referenceSubject = ''\n    sentenceText = ''\n    configjson = json.loads(config)\n    \n    for sentences in sentenceList:    \n        tokens = split_into_tokens(sentences)   \n        postags = POS_tagging(tokens)\n        sentencetags = chunk_sentence(postags)\n        subjects = find_subject(sentencetags)\n        for rules in configjson['configuration']['coreference']['rules']:\n            if (rules['type'] == 'chunking'):\n                for tags in rules['chunk']:\n                    chunktags = chunk_tagging(tags['tag'],tags['pattern'],postags)\n                    if (len(chunktags)>0):\n                        for words in chunktags:\n                            if tags['tag'] == 'PRP':\n                                if subjects == '':\n                                    sentenceText = sentenceText+sentences.replace(words,referenceSubject)+'. '\n                            elif tags['tag'] == 'NAME':\n                                if words == subjects:\n                                    referenceSubject = words\n                                    sentenceText = sentenceText+sentences+'. '\n                    \n    return sentenceText\n\ndef disambiguate_entities(text):\n    \"\"\" Resolve disambiguity in the text using entities and entity resolution performed using Watson NLU\n    \"\"\"    \n    sentenceList = split_sentences(text)\n    taggedtext = text\n    response = analyze_using_NLU(text)\n    responsejson = response\n    for sentences in sentenceList:\n        tokens = split_into_tokens(sentences)\n        postags = POS_tagging(tokens)\n        name_tagged_text = chunk_tagging('NAME','NAME:{<NNP>+}',postags)\n        print(name_tagged_text)\n    for entities in responsejson['entities']:\n        regexstr = entities['text']+'(?!>)'\n        regex = re.compile(regexstr, re.IGNORECASE)\n        tagText = '<'+entities['type']+':'+entities['text']+'>'\n        taggedtext = re.sub(regexstr,tagText,taggedtext)\n        tagTextMap[tagText] = entities['text']\n    \n    for roles in responsejson['semantic_roles']:\n        if 'entities' not in roles['subject']:\n            print('NO ENTITY')\n        else:\n            for entity in roles['subject']['entities']:\n                if 'disambiguation' not in entity:\n                    print('NO DISAMBIGUATION')\n                else:\n                    regexstr = roles['subject']['text']+'(?!>)'\n                    regex = re.compile(regexstr, re.IGNORECASE)\n                    tagText = '<'+entity['type']+':'+entity['text']+'>'\n                    taggedtext = re.sub(regexstr,tagText,taggedtext)\n                    tagTextMap[tagText] = entity['text']\n    \n    return taggedtext\n\ndef extract_relations(text, config,relations):\n    \"\"\" Extract entity relationships in a sentence\n    \"\"\"    \n    sentenceList = split_sentences(text)\n    configjson = json.loads(config)\n     \n    for sentences in sentenceList:\n        for rules in configjson['configuration']['relations']['rules']:\n            if (rules['type'] == 'd_regex'):\n                for regex in rules['d_regex']:\n                    regextags = regex_tagging(regex['tag'],regex['pattern'],sentences)\n                    if (len(regextags)>0):\n                        for words in regextags:\n                            relations.append((tagTextMap[words[0]],regex['tag'],tagTextMap[words[2]]))\n         \n    return relations\n\ndef compute_text_similarity(text1, text2, text1tags, text2tags):\n    \"\"\" Compute text similarity using cosine\n    \"\"\"\n    sentences_text1 = split_sentences(text1)\n    sentences_text2 = split_sentences(text2)\n    tokens_text1 = []\n    tokens_text2 = []\n    \n    for sentence in sentences_text1:\n        tokenstemp = split_into_tokens(sentence.lower())\n        tokens_text1.extend(tokenstemp)\n    \n    for sentence in sentences_text2:\n        tokenstemp = split_into_tokens(sentence.lower())\n        tokens_text2.extend(tokenstemp)\n    # Add text tags    \n    if (len(text1tags) > 0):  \n        tokens_text1.extend(text1tags)\n    if (len(text2tags) > 0):    \n        tokens_text2.extend(text2tags)\n    \n    # Stem words\n    tokens1Filtered = [stemmer.stem(x) for x in tokens_text1 if x not in stopWords]\n    tokens2Filtered = [stemmer.stem(x) for x in tokens_text2 if x not in stopWords]\n    \n    #  remove duplicate tokens\n    tokens1Filtered = set(tokens1Filtered)\n    tokens2Filtered = set(tokens2Filtered)\n   \n    tokensList=[]\n\n    text1vector = []\n    text2vector = []\n\n    if len(tokens1Filtered) < len(tokens2Filtered):\n        tokensList = tokens1Filtered\n    else:\n        tokensList = tokens2Filtered\n\n    for token in tokensList:\n        if token in tokens1Filtered:\n            text1vector.append(1)\n        else:\n            text1vector.append(0)\n        if token in tokens2Filtered:\n            text2vector.append(1)\n        else:\n            text2vector.append(0)  \n\n    cosine_similarity = 1-cosine_distance(text1vector,text2vector)\n    if numpy.isnan(cosine_similarity):\n        cosine_similarity = 0\n    \n    return cosine_similarity", 
            "cell_type": "code", 
            "metadata": {}, 
            "outputs": [], 
            "execution_count": 10
        }, 
        {
            "source": "### 3.3 Correlated Network Visualization\n\nUtility function to plot network visualization of entity relationships to correlate them", 
            "cell_type": "markdown", 
            "metadata": {}
        }, 
        {
            "source": "def draw_simple_graph(graph):\n\n    nodes = []\n    labels = []\n    edges = []\n    # extract nodes from graph\n    for tuples in graph:\n        nodes.append(tuples[0])\n        nodes.append(tuples[2])\n        \n    # extract edges from graph\n    for edgepairs in graph:\n        edges.append((edgepairs[0],edgepairs[2]))        \n    # extract edge labels from graph\n    for edgetuples in graph:\n        labels.append(edgetuples[1])\n    # create networkx graph\n    G=nx.Graph()\n    # add nodes\n    for node in nodes:\n        G.add_node(node)\n    # add edges\n    for edge in graph:\n        G.add_edge(edge[0], edge[2])\n\n    # draw graph\n    pos = nx.spring_layout(G)\n    nx.draw(G, pos,with_labels = True)\n    edge_labels = dict(zip(edges, labels))\n    nx.draw_networkx_edge_labels(G, pos, edge_labels = edge_labels)\n\n    # show graph\n    plt.show()    ", 
            "cell_type": "code", 
            "metadata": {}, 
            "outputs": [], 
            "execution_count": 11
        }, 
        {
            "source": "## 4. Persistence and Storage", 
            "cell_type": "markdown", 
            "metadata": {}
        }, 
        {
            "source": "### 4.1 Configure Object Storage Client", 
            "cell_type": "markdown", 
            "metadata": {
                "collapsed": true
            }
        }, 
        {
            "source": "\nimport sys\nimport types\nimport pandas as pd\nfrom botocore.client import Config\nimport ibm_boto3\n\ndef __iter__(self): return 0\n\n# @hidden_cell\n# The following code accesses a file in your IBM Cloud Object Storage. It includes your credentials.\n# You might want to remove those credentials before you share your notebook.\ndef get_object(filename):\n    \n    client_8760db995d144d1cab8bb99f8e30e4d7 = ibm_boto3.client(service_name='s3',\n        ibm_api_key_id='rCEutCTVbYiDKDqWrSU-G_YD5-YbqUZRhXBboFD25PHM',\n        ibm_service_instance_id=\"iam-ServiceId-315c1a38-7c02-4c01-90be-598fa4710933\",\n        ibm_auth_endpoint=\"https://iam.ng.bluemix.net/oidc/token\",\n        config=Config(signature_version='oauth'),\n        endpoint_url='https://s3-api.us-geo.objectstorage.service.networklayer.com')\n\n    # Your data file was loaded into a botocore.response.StreamingBody object.\n    # Please read the documentation of ibm_boto3 and pandas to learn more about your possibilities to load the data.\n    # ibm_boto3 documentation: https://ibm.github.io/ibm-cos-sdk-python/\n    # pandas documentation: http://pandas.pydata.org/\n\n    streaming_body_1 = client_8760db995d144d1cab8bb99f8e30e4d7.get_object(Bucket='textanalyticscourse291b8c2b2fd34be0aaeaf42d0c9becc5', Key=filename)['Body']\n    # add missing __iter__ method, so pandas accepts body as file-like object\n    if not hasattr(streaming_body_1, \"__iter__\"): streaming_body_1.__iter__ = types.MethodType( __iter__, streaming_body_1 ) \n    train = pd.read_table(streaming_body_1,header=None)\n    a=train[0].values\n    return a[0]\n", 
            "cell_type": "code", 
            "metadata": {}, 
            "outputs": [], 
            "execution_count": 35
        }, 
        {
            "source": "d=get_object(sampleTextFileName1)\nd", 
            "cell_type": "code", 
            "metadata": {}, 
            "outputs": [
                {
                    "output_type": "execute_result", 
                    "data": {
                        "text/plain": "'Barack Hussein Obama II born August 4, 1961 is an American politician who served as the 44th President of the United States from 2009 to 2017. He previously served in the U S Senate representing Illinois from 2005 to 2008 and in the Illinois State Senate from 1997 to 2004.'"
                    }, 
                    "execution_count": 36, 
                    "metadata": {}
                }
            ], 
            "execution_count": 36
        }, 
        {
            "source": "auth_url = credentials_1['auth_url']+\"/v3\"\ncontainer = credentials_1['container']\nIBM_Objectstorage_Connection = swiftclient.Connection(\n    key=credentials_1['password'], authurl=auth_url, auth_version='3', os_options={\n        \"project_id\": credentials_1['project_id'], \"user_id\": credentials_1['user_id'], \"region_name\": credentials_1['region']})\n\ndef create_container(container_name):\n    x = IBM_Objectstorage_Connection.put_container(container_name)\n    return x\n\ndef put_object(container_name, fname, contents, content_type):\n    x = IBM_Objectstorage_Connection.put_object(\n        container_name,\n        fname,\n        contents,\n        content_type)\n    return x\n\ndef get_object(container_name, fname):\n    Object_Store_file_details = IBM_Objectstorage_Connection.get_object(\n        container_name, fname)\n    return Object_Store_file_details[1]", 
            "cell_type": "code", 
            "metadata": {}, 
            "outputs": [
                {
                    "output_type": "error", 
                    "evalue": "'auth_url'", 
                    "traceback": [
                        "\u001b[0;31m\u001b[0m", 
                        "\u001b[0;31mKeyError\u001b[0mTraceback (most recent call last)", 
                        "\u001b[0;32m<ipython-input-12-def399ad507c>\u001b[0m in \u001b[0;36m<module>\u001b[0;34m()\u001b[0m\n\u001b[0;32m----> 1\u001b[0;31m \u001b[0mauth_url\u001b[0m \u001b[0;34m=\u001b[0m \u001b[0mcredentials_1\u001b[0m\u001b[0;34m[\u001b[0m\u001b[0;34m'auth_url'\u001b[0m\u001b[0;34m]\u001b[0m\u001b[0;34m+\u001b[0m\u001b[0;34m\"/v3\"\u001b[0m\u001b[0;34m\u001b[0m\u001b[0m\n\u001b[0m\u001b[1;32m      2\u001b[0m \u001b[0mcontainer\u001b[0m \u001b[0;34m=\u001b[0m \u001b[0mcredentials_1\u001b[0m\u001b[0;34m[\u001b[0m\u001b[0;34m'container'\u001b[0m\u001b[0;34m]\u001b[0m\u001b[0;34m\u001b[0m\u001b[0m\n\u001b[1;32m      3\u001b[0m IBM_Objectstorage_Connection = swiftclient.Connection(\n\u001b[1;32m      4\u001b[0m     key=credentials_1['password'], authurl=auth_url, auth_version='3', os_options={\n\u001b[1;32m      5\u001b[0m         \"project_id\": credentials_1['project_id'], \"user_id\": credentials_1['user_id'], \"region_name\": credentials_1['region']})\n", 
                        "\u001b[0;31mKeyError\u001b[0m: 'auth_url'"
                    ], 
                    "ename": "KeyError"
                }
            ], 
            "execution_count": 12
        }, 
        {
            "source": "## 5. Correlate text\nRead the data files for correlation from Object Store<br>\nRead the configuration file for rules of coreference and correlation from Object Store.<br>", 
            "cell_type": "markdown", 
            "metadata": {}
        }, 
        {
            "source": "text1 = get_object(sampleTextFileName1)\ntext2 = get_object(sampleTextFileName2)\nconfig = get_object(sampleConfigFileName)\n\nrelationships = []\n\nresolved_text1 = resolve_coreference(text1, config)\nresolved_text2 = resolve_coreference(text2, config)\n\ndisambiguated_text1 = disambiguate_entities(resolved_text1)\ndisambiguated_text2 = disambiguate_entities(resolved_text2)\n\nextract_relations(disambiguated_text1, config,relationships)\nextract_relations(disambiguated_text2, config,relationships)\n\nput_object(container,\"relationships.txt\",json.dumps(relationships),\"text\")", 
            "cell_type": "code", 
            "metadata": {}, 
            "outputs": [
                {
                    "output_type": "error", 
                    "evalue": "Expecting object: line 1 column 1 (char 0)", 
                    "traceback": [
                        "\u001b[0;31m\u001b[0m", 
                        "\u001b[0;31mValueError\u001b[0mTraceback (most recent call last)", 
                        "\u001b[0;32m<ipython-input-37-419523bc5aa6>\u001b[0m in \u001b[0;36m<module>\u001b[0;34m()\u001b[0m\n\u001b[1;32m      5\u001b[0m \u001b[0mrelationships\u001b[0m \u001b[0;34m=\u001b[0m \u001b[0;34m[\u001b[0m\u001b[0;34m]\u001b[0m\u001b[0;34m\u001b[0m\u001b[0m\n\u001b[1;32m      6\u001b[0m \u001b[0;34m\u001b[0m\u001b[0m\n\u001b[0;32m----> 7\u001b[0;31m \u001b[0mresolved_text1\u001b[0m \u001b[0;34m=\u001b[0m \u001b[0mresolve_coreference\u001b[0m\u001b[0;34m(\u001b[0m\u001b[0mtext1\u001b[0m\u001b[0;34m,\u001b[0m \u001b[0mconfig\u001b[0m\u001b[0;34m)\u001b[0m\u001b[0;34m\u001b[0m\u001b[0m\n\u001b[0m\u001b[1;32m      8\u001b[0m \u001b[0mresolved_text2\u001b[0m \u001b[0;34m=\u001b[0m \u001b[0mresolve_coreference\u001b[0m\u001b[0;34m(\u001b[0m\u001b[0mtext2\u001b[0m\u001b[0;34m,\u001b[0m \u001b[0mconfig\u001b[0m\u001b[0;34m)\u001b[0m\u001b[0;34m\u001b[0m\u001b[0m\n\u001b[1;32m      9\u001b[0m \u001b[0;34m\u001b[0m\u001b[0m\n", 
                        "\u001b[0;32m<ipython-input-10-858790061a51>\u001b[0m in \u001b[0;36mresolve_coreference\u001b[0;34m(text, config)\u001b[0m\n\u001b[1;32m     95\u001b[0m     \u001b[0mreferenceSubject\u001b[0m \u001b[0;34m=\u001b[0m \u001b[0;34m''\u001b[0m\u001b[0;34m\u001b[0m\u001b[0m\n\u001b[1;32m     96\u001b[0m     \u001b[0msentenceText\u001b[0m \u001b[0;34m=\u001b[0m \u001b[0;34m''\u001b[0m\u001b[0;34m\u001b[0m\u001b[0m\n\u001b[0;32m---> 97\u001b[0;31m     \u001b[0mconfigjson\u001b[0m \u001b[0;34m=\u001b[0m \u001b[0mjson\u001b[0m\u001b[0;34m.\u001b[0m\u001b[0mloads\u001b[0m\u001b[0;34m(\u001b[0m\u001b[0mconfig\u001b[0m\u001b[0;34m)\u001b[0m\u001b[0;34m\u001b[0m\u001b[0m\n\u001b[0m\u001b[1;32m     98\u001b[0m \u001b[0;34m\u001b[0m\u001b[0m\n\u001b[1;32m     99\u001b[0m     \u001b[0;32mfor\u001b[0m \u001b[0msentences\u001b[0m \u001b[0;32min\u001b[0m \u001b[0msentenceList\u001b[0m\u001b[0;34m:\u001b[0m\u001b[0;34m\u001b[0m\u001b[0m\n", 
                        "\u001b[0;32m/usr/local/src/bluemix_jupyter_bundle.v73/notebook/lib/python2.7/json/__init__.pyc\u001b[0m in \u001b[0;36mloads\u001b[0;34m(s, encoding, cls, object_hook, parse_float, parse_int, parse_constant, object_pairs_hook, **kw)\u001b[0m\n\u001b[1;32m    337\u001b[0m             \u001b[0mparse_int\u001b[0m \u001b[0;32mis\u001b[0m \u001b[0mNone\u001b[0m \u001b[0;32mand\u001b[0m \u001b[0mparse_float\u001b[0m \u001b[0;32mis\u001b[0m \u001b[0mNone\u001b[0m \u001b[0;32mand\u001b[0m\u001b[0;34m\u001b[0m\u001b[0m\n\u001b[1;32m    338\u001b[0m             parse_constant is None and object_pairs_hook is None and not kw):\n\u001b[0;32m--> 339\u001b[0;31m         \u001b[0;32mreturn\u001b[0m \u001b[0m_default_decoder\u001b[0m\u001b[0;34m.\u001b[0m\u001b[0mdecode\u001b[0m\u001b[0;34m(\u001b[0m\u001b[0ms\u001b[0m\u001b[0;34m)\u001b[0m\u001b[0;34m\u001b[0m\u001b[0m\n\u001b[0m\u001b[1;32m    340\u001b[0m     \u001b[0;32mif\u001b[0m \u001b[0mcls\u001b[0m \u001b[0;32mis\u001b[0m \u001b[0mNone\u001b[0m\u001b[0;34m:\u001b[0m\u001b[0;34m\u001b[0m\u001b[0m\n\u001b[1;32m    341\u001b[0m         \u001b[0mcls\u001b[0m \u001b[0;34m=\u001b[0m \u001b[0mJSONDecoder\u001b[0m\u001b[0;34m\u001b[0m\u001b[0m\n", 
                        "\u001b[0;32m/usr/local/src/bluemix_jupyter_bundle.v73/notebook/lib/python2.7/json/decoder.pyc\u001b[0m in \u001b[0;36mdecode\u001b[0;34m(self, s, _w)\u001b[0m\n\u001b[1;32m    362\u001b[0m \u001b[0;34m\u001b[0m\u001b[0m\n\u001b[1;32m    363\u001b[0m         \"\"\"\n\u001b[0;32m--> 364\u001b[0;31m         \u001b[0mobj\u001b[0m\u001b[0;34m,\u001b[0m \u001b[0mend\u001b[0m \u001b[0;34m=\u001b[0m \u001b[0mself\u001b[0m\u001b[0;34m.\u001b[0m\u001b[0mraw_decode\u001b[0m\u001b[0;34m(\u001b[0m\u001b[0ms\u001b[0m\u001b[0;34m,\u001b[0m \u001b[0midx\u001b[0m\u001b[0;34m=\u001b[0m\u001b[0m_w\u001b[0m\u001b[0;34m(\u001b[0m\u001b[0ms\u001b[0m\u001b[0;34m,\u001b[0m \u001b[0;36m0\u001b[0m\u001b[0;34m)\u001b[0m\u001b[0;34m.\u001b[0m\u001b[0mend\u001b[0m\u001b[0;34m(\u001b[0m\u001b[0;34m)\u001b[0m\u001b[0;34m)\u001b[0m\u001b[0;34m\u001b[0m\u001b[0m\n\u001b[0m\u001b[1;32m    365\u001b[0m         \u001b[0mend\u001b[0m \u001b[0;34m=\u001b[0m \u001b[0m_w\u001b[0m\u001b[0;34m(\u001b[0m\u001b[0ms\u001b[0m\u001b[0;34m,\u001b[0m \u001b[0mend\u001b[0m\u001b[0;34m)\u001b[0m\u001b[0;34m.\u001b[0m\u001b[0mend\u001b[0m\u001b[0;34m(\u001b[0m\u001b[0;34m)\u001b[0m\u001b[0;34m\u001b[0m\u001b[0m\n\u001b[1;32m    366\u001b[0m         \u001b[0;32mif\u001b[0m \u001b[0mend\u001b[0m \u001b[0;34m!=\u001b[0m \u001b[0mlen\u001b[0m\u001b[0;34m(\u001b[0m\u001b[0ms\u001b[0m\u001b[0;34m)\u001b[0m\u001b[0;34m:\u001b[0m\u001b[0;34m\u001b[0m\u001b[0m\n", 
                        "\u001b[0;32m/usr/local/src/bluemix_jupyter_bundle.v73/notebook/lib/python2.7/json/decoder.pyc\u001b[0m in \u001b[0;36mraw_decode\u001b[0;34m(self, s, idx)\u001b[0m\n\u001b[1;32m    378\u001b[0m         \"\"\"\n\u001b[1;32m    379\u001b[0m         \u001b[0;32mtry\u001b[0m\u001b[0;34m:\u001b[0m\u001b[0;34m\u001b[0m\u001b[0m\n\u001b[0;32m--> 380\u001b[0;31m             \u001b[0mobj\u001b[0m\u001b[0;34m,\u001b[0m \u001b[0mend\u001b[0m \u001b[0;34m=\u001b[0m \u001b[0mself\u001b[0m\u001b[0;34m.\u001b[0m\u001b[0mscan_once\u001b[0m\u001b[0;34m(\u001b[0m\u001b[0ms\u001b[0m\u001b[0;34m,\u001b[0m \u001b[0midx\u001b[0m\u001b[0;34m)\u001b[0m\u001b[0;34m\u001b[0m\u001b[0m\n\u001b[0m\u001b[1;32m    381\u001b[0m         \u001b[0;32mexcept\u001b[0m \u001b[0mStopIteration\u001b[0m\u001b[0;34m:\u001b[0m\u001b[0;34m\u001b[0m\u001b[0m\n\u001b[1;32m    382\u001b[0m             \u001b[0;32mraise\u001b[0m \u001b[0mValueError\u001b[0m\u001b[0;34m(\u001b[0m\u001b[0;34m\"No JSON object could be decoded\"\u001b[0m\u001b[0;34m)\u001b[0m\u001b[0;34m\u001b[0m\u001b[0m\n", 
                        "\u001b[0;31mValueError\u001b[0m: Expecting object: line 1 column 1 (char 0)"
                    ], 
                    "ename": "ValueError"
                }
            ], 
            "execution_count": 37
        }, 
        {
            "source": "print \"Document similarity score\" \nprint compute_text_similarity(text1,text2,[],[])\nprint \"\"\nprint \"Entities and relations:\"\nprint get_object(container, \"relationships.txt\")", 
            "cell_type": "code", 
            "metadata": {}, 
            "outputs": [], 
            "execution_count": null
        }, 
        {
            "source": "## 6. Visualize correlated text\nLoad correlated text into Networkx<br>\nPlot network graph of the correlated text.<br>", 
            "cell_type": "markdown", 
            "metadata": {}
        }, 
        {
            "source": "draw_simple_graph(relationships)", 
            "cell_type": "code", 
            "metadata": {}, 
            "outputs": [
                {
                    "output_type": "display_data", 
                    "data": {
                        "image/png": "[encoded data removed]", 
                        "text/plain": "<matplotlib.figure.Figure at 0x7f959a30b2d0>"
                    }, 
                    "metadata": {}
                }
            ], 
            "execution_count": 17
        }
    ], 
    "metadata": {
        "kernelspec": {
            "display_name": "Python 2 with Spark 1.6 (Unsupported)", 
            "name": "python2", 
            "language": "python"
        }, 
        "language_info": {
            "mimetype": "text/x-python", 
            "nbconvert_exporter": "python", 
            "version": "2.7.11", 
            "name": "python", 
            "pygments_lexer": "ipython2", 
            "file_extension": ".py", 
            "codemirror_mode": {
                "version": 2, 
                "name": "ipython"
            }
        }, 
        "anaconda-cloud": {}
    }, 
    "nbformat": 4
}